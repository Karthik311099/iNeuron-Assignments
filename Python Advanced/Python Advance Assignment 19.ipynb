{
 "cells": [
  {
   "cell_type": "markdown",
   "id": "cc53963e",
   "metadata": {
    "jp-MarkdownHeadingCollapsed": true,
    "tags": []
   },
   "source": [
    "# Python Advance Assignment 19"
   ]
  },
  {
   "cell_type": "markdown",
   "id": "20fe32ca",
   "metadata": {},
   "source": [
    "#### Question 1:\n",
    "Define the relationship between a class and its instances. Is it a one-to-one or a one-to-many partnership, for example?"
   ]
  },
  {
   "cell_type": "markdown",
   "id": "49eae2e1-3496-4e3d-af7f-9950cb39cf8f",
   "metadata": {},
   "source": [
    "#### Answer:\n",
    "Relationship between a class and its instances is a one to many partnership."
   ]
  },
  {
   "cell_type": "markdown",
   "id": "a3998f76",
   "metadata": {},
   "source": [
    "#### Question 2:\n",
    "What kind of data is held only in an instance?"
   ]
  },
  {
   "cell_type": "markdown",
   "id": "ccdd3799-b335-471b-a5ee-517894be386a",
   "metadata": {},
   "source": [
    "#### Answer:\n",
    "Instance objects contains the Instance variables which are specific to that specific Instance object."
   ]
  },
  {
   "cell_type": "markdown",
   "id": "3bc4acfe",
   "metadata": {},
   "source": [
    "#### Question 3:\n",
    "What kind of knowledge is stored in a class?"
   ]
  },
  {
   "cell_type": "markdown",
   "id": "875dde36-7242-41a5-997f-ab020165562c",
   "metadata": {},
   "source": [
    "#### Answer:\n",
    "Class creates a user-defined data structure, which holds its own data members and member functions, \n",
    "which can be accessed and used by creating an instance of that class. A class is like a blueprint for an object."
   ]
  },
  {
   "cell_type": "markdown",
   "id": "d6c2ef9c",
   "metadata": {},
   "source": [
    "#### Question 4:\n",
    "What exactly is a method, and how is it different from a regular function?"
   ]
  },
  {
   "cell_type": "markdown",
   "id": "2907d3b3-dcd1-437d-8e8f-6557d8738be5",
   "metadata": {},
   "source": [
    "#### Answer:\n",
    "The methods with a class can be used to access the insatnce variables of its instance. \n",
    "So,the object's state can be modified by its method. \n",
    "Function can't access the attributes of an instance of a class or can't modify the state of the object."
   ]
  },
  {
   "cell_type": "markdown",
   "id": "471e1689",
   "metadata": {},
   "source": [
    "#### Question 5:\n",
    "Is inheritance supported in Python, and if so, what is the syntax?"
   ]
  },
  {
   "cell_type": "markdown",
   "id": "440d645e-3a88-48b8-9871-a684d9767b9d",
   "metadata": {},
   "source": [
    "#### Answer:\n",
    "Yes,Python supports inheritance. The Types of Inheritence Supported by Python are:\n",
    "1. Simple Inheritence\n",
    "2. Multiple Inheritence\n",
    "3. Multilevel lInheritence\n",
    "4. Hybrid Inheritence\n",
    "5. Hierracial Inheritence"
   ]
  },
  {
   "cell_type": "code",
   "execution_count": 1,
   "id": "63b31180",
   "metadata": {},
   "outputs": [],
   "source": [
    "class Person:\n",
    "    def __init__(self, fname, lname):\n",
    "        self.first_name = fname\n",
    "        self.last_name = lname\n",
    "class Student(Person):\n",
    "    pass"
   ]
  },
  {
   "cell_type": "markdown",
   "id": "1f2a9517",
   "metadata": {},
   "source": [
    "#### Question 6:\n",
    "How much encapsulation (making instance or class variables private) does Python support?"
   ]
  },
  {
   "cell_type": "markdown",
   "id": "f49e13d2-bc2c-488f-81b9-b3eb9a44f682",
   "metadata": {
    "jp-MarkdownHeadingCollapsed": true,
    "tags": []
   },
   "source": [
    "#### Answer:\n",
    "Encapsulation describes the idea of wrapping data and the methods that work on data within one unit. This puts restrictions on accessing variables and methods directly and can prevent the accidental modification of data. To prevent accidental change, an objects variable can only be changed by an objects method."
   ]
  },
  {
   "cell_type": "markdown",
   "id": "c0de33d4",
   "metadata": {},
   "source": [
    "#### Question 7:\n",
    "How do you distinguish between a class variable and an instance variable?"
   ]
  },
  {
   "cell_type": "markdown",
   "id": "2bf6cac4-35e9-4a61-8c38-98b130f70f94",
   "metadata": {},
   "source": [
    "#### Answer:\n",
    "The **`Class Attribute`** is available to all the instance objects of that class. \n",
    "whereas **`Instance Attributes`** are accessible only to the object or Instance of that class.\n",
    "A single copy of Class attributes is maintained by pvm at the class level. \n",
    "Whereas difference copies of instance attributes are maintained by pvm at objects/instance level."
   ]
  },
  {
   "cell_type": "markdown",
   "id": "65768276",
   "metadata": {},
   "source": [
    "#### Question 8:\n",
    "When, if ever, can self be included in a class's method definitions?"
   ]
  },
  {
   "cell_type": "markdown",
   "id": "8c1400f1-46a4-4f66-b7b0-49e7dd64349c",
   "metadata": {},
   "source": [
    "#### Answer:\n",
    "Yes, self can included in class method definations to access the instance variables inside class methods."
   ]
  },
  {
   "cell_type": "markdown",
   "id": "ae7c6bbf",
   "metadata": {},
   "source": [
    "#### Question 9:\n",
    "What is the difference between the **`__add__`** and the **`__radd__`** methods ?"
   ]
  },
  {
   "cell_type": "markdown",
   "id": "75461c42-debd-4d4e-aac0-da1655173c96",
   "metadata": {},
   "source": [
    "#### Answer:\n",
    "Entering **`__radd__`** Python will first try **`__add__()`**, and if that returns Not Implemented Python will check if the right-hand operand implements **`__radd__`**, and if it does, it will call **`__radd__()`** rather than raising a **`TypeError`**"
   ]
  },
  {
   "cell_type": "markdown",
   "id": "5eae7542",
   "metadata": {},
   "source": [
    "#### Question 10:\n",
    "When is it necessary to use a reflection method? When do you not need it, even though you support the operation in question?"
   ]
  },
  {
   "cell_type": "markdown",
   "id": "266b8a35-4c72-4d61-858f-34d4a08248fc",
   "metadata": {},
   "source": [
    "#### Answer:\n",
    "Reflection method we often encounter the requirement that a method in the executing object, or a variable in the calling object, or a field of the object should be assigned, while the method name or field name can not be determined when encoding the code, and need to be input in the form of passing strings through parameters."
   ]
  },
  {
   "cell_type": "markdown",
   "id": "98aac547",
   "metadata": {},
   "source": [
    "#### Question 11:\n",
    "What is the `__iadd__` method called?"
   ]
  },
  {
   "cell_type": "markdown",
   "id": "a169c088-effd-4e3d-8559-76178a346e8e",
   "metadata": {},
   "source": [
    "#### Answer:\n",
    "**`__iadd__`** method is called when we use implementation like a+=b which is **`a.__iadd__(b)`**"
   ]
  },
  {
   "cell_type": "markdown",
   "id": "f6c3908c",
   "metadata": {},
   "source": [
    "#### Question 12:\n",
    "Is the `_ _init_ _` method inherited by subclasses? What do you do if you need to customize its behavior within a subclass ?"
   ]
  },
  {
   "cell_type": "markdown",
   "id": "4070ab6a-cbc1-4ae5-bc2c-0452007e93f1",
   "metadata": {},
   "source": [
    "#### Answer:\n",
    "Yes, **`__init__`** method will be inherited by subclasses. if we want to customize its behaviour within a subclass we can use **`super()`** method."
   ]
  }
 ],
 "metadata": {
  "kernelspec": {
   "display_name": "Python 3 (ipykernel)",
   "language": "python",
   "name": "python3"
  },
  "language_info": {
   "codemirror_mode": {
    "name": "ipython",
    "version": 3
   },
   "file_extension": ".py",
   "mimetype": "text/x-python",
   "name": "python",
   "nbconvert_exporter": "python",
   "pygments_lexer": "ipython3",
   "version": "3.9.13"
  }
 },
 "nbformat": 4,
 "nbformat_minor": 5
}
