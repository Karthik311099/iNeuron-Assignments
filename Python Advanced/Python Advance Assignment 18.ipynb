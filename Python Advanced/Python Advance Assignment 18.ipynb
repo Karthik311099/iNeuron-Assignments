{
 "cells": [
  {
   "cell_type": "markdown",
   "id": "22800d6c",
   "metadata": {},
   "source": [
    "# Python Advance Assignment 18"
   ]
  },
  {
   "cell_type": "markdown",
   "id": "fcd9b173",
   "metadata": {},
   "source": [
    "#### Question 1:\n",
    "Describe the differences between text and binary files in a single paragraph."
   ]
  },
  {
   "cell_type": "markdown",
   "id": "d6703431-9441-46ec-b554-1b81e47b3102",
   "metadata": {},
   "source": [
    "#### Answer:\n",
    "The differences between Text Files and Binary Files are:\n",
    "\n",
    "**Text files** are special subset of binary files that are used to store human readable characters as a rich text document\n",
    "or plain text document.\n",
    "Text files also store data in sequential bytes but bits in text file represents characters.\n",
    "\n",
    "**Binary files** are those typical files that store data in the form of sequence of bytes grouped into eight bits\n",
    "or sometimes sixteen bits. These bits represent custom data and such files can store multiple types of data \n",
    "(images, audio, text, etc) under a single file."
   ]
  },
  {
   "cell_type": "markdown",
   "id": "3e363a3b",
   "metadata": {},
   "source": [
    "#### Question 2:\n",
    "What are some scenarios where using text files will be the better option? \n",
    "When would you like to use binary files instead of text files?"
   ]
  },
  {
   "cell_type": "markdown",
   "id": "973a08ca-fcdf-4af1-adf5-fa53b9fc5b74",
   "metadata": {},
   "source": [
    "#### Answer:\n",
    "Text files are less prone to get corrupted as any undesired change may just show up once the file is opened \n",
    "and then can easily be removed. \n",
    "Whereas Use binary files instead of text files for image data."
   ]
  },
  {
   "cell_type": "markdown",
   "id": "79fabe8b",
   "metadata": {},
   "source": [
    "#### Question 3:\n",
    "What are some of the issues with using binary operations to read and write a Python integer directly to disc?"
   ]
  },
  {
   "cell_type": "markdown",
   "id": "599ceb76-95ca-4d36-b53b-83057a0d4869",
   "metadata": {},
   "source": [
    "#### Answer:\n",
    "When we read or write a python integer using binary operations \n",
    "1. Binary operations deal with raw data\n",
    "2. One needs to identify how many bytes one would read or write."
   ]
  },
  {
   "cell_type": "markdown",
   "id": "96674fa6",
   "metadata": {},
   "source": [
    "#### Question 4:\n",
    "Describe a benefit of using the with keyword instead of explicitly opening a file ?"
   ]
  },
  {
   "cell_type": "markdown",
   "id": "0dc6dbf5-5280-404f-b88a-588c3191660c",
   "metadata": {},
   "source": [
    "#### Answer:\n",
    "When a file is opened using the **`with`** keyword, if some exceptions occur after opening a file,\n",
    "or at the end of the file it automatically does the closing of the file. \n",
    "There by not leaving an file in open mode and there would no need to  explicitly close a file."
   ]
  },
  {
   "cell_type": "markdown",
   "id": "7ec11be2",
   "metadata": {},
   "source": [
    "#### Question 5:\n",
    "Does Python have the trailing newline while reading a line of text? Does Python append a newline when you write a line of text?"
   ]
  },
  {
   "cell_type": "markdown",
   "id": "5132e032-9b4f-4504-b79b-bd536de54335",
   "metadata": {},
   "source": [
    "#### Answer:\n",
    "Yes, Python have the trailing newline while reading a line of text.\n",
    "When we write a newline has to be provided in python excpicitly."
   ]
  },
  {
   "cell_type": "markdown",
   "id": "8d433ac7",
   "metadata": {},
   "source": [
    "#### Question 6:\n",
    "What file operations enable for random-access operation?"
   ]
  },
  {
   "cell_type": "markdown",
   "id": "f36c4662-915e-41df-8926-e03d578abc23",
   "metadata": {},
   "source": [
    "#### Answer:\n",
    "The file operations enable for random-access operation are **`seek()`** and **`tell()`**"
   ]
  },
  {
   "cell_type": "markdown",
   "id": "6e521586",
   "metadata": {},
   "source": [
    "#### Question 7:\n",
    "When do you think you'll use the struct package the most?"
   ]
  },
  {
   "cell_type": "markdown",
   "id": "a3e6dcbd-2ea4-44e8-87a3-2d836bad7fe5",
   "metadata": {},
   "source": [
    "#### Answer:\n",
    "The **`struct`** package is mostly used while converting a common python types into **`C`** language types."
   ]
  },
  {
   "cell_type": "markdown",
   "id": "9609ec3f",
   "metadata": {},
   "source": [
    "#### Question 8:\n",
    "When is pickling the best option?"
   ]
  },
  {
   "cell_type": "markdown",
   "id": "59a82ad1-f49a-401f-95d9-4a2ec249d716",
   "metadata": {},
   "source": [
    "#### Answer:\n",
    "Pickling is best option for creating a new binary file using python."
   ]
  },
  {
   "cell_type": "markdown",
   "id": "98b90ed9",
   "metadata": {},
   "source": [
    "#### Question 9:\n",
    "When will it be best to use the shelve package?"
   ]
  },
  {
   "cell_type": "markdown",
   "id": "e20d7817-dc51-43ef-b82b-24e9b203d74c",
   "metadata": {},
   "source": [
    "#### Answer:\n",
    "**`Shelve`** package is used to pickle data but  treats the entire file as dictionary."
   ]
  },
  {
   "cell_type": "markdown",
   "id": "a4ad2a21",
   "metadata": {},
   "source": [
    "#### Question 10:\n",
    "What is a special restriction when using the shelve package, as opposed to using other data dictionaries?"
   ]
  },
  {
   "cell_type": "markdown",
   "id": "8326ea98-f8eb-4e64-a530-1c9e09d14114",
   "metadata": {},
   "source": [
    "#### Answer:\n",
    "Only string data type can be used as key in this special dictionary object,\n",
    "whereas any picklable Python object can be used as value."
   ]
  }
 ],
 "metadata": {
  "kernelspec": {
   "display_name": "Python 3 (ipykernel)",
   "language": "python",
   "name": "python3"
  },
  "language_info": {
   "codemirror_mode": {
    "name": "ipython",
    "version": 3
   },
   "file_extension": ".py",
   "mimetype": "text/x-python",
   "name": "python",
   "nbconvert_exporter": "python",
   "pygments_lexer": "ipython3",
   "version": "3.9.13"
  }
 },
 "nbformat": 4,
 "nbformat_minor": 5
}
