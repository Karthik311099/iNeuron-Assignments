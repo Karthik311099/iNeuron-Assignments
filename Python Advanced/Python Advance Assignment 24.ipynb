{
 "cells": [
  {
   "cell_type": "markdown",
   "id": "d8ed8d0b",
   "metadata": {},
   "source": [
    "# Python Advance Assignment 24"
   ]
  },
  {
   "cell_type": "markdown",
   "id": "d91cebf0",
   "metadata": {},
   "source": [
    "#### Question 1.\n",
    "Is it permissible to use several import statements to import the same module? What would the goal be? Can you think of a situation where it would be beneficial ?"
   ]
  },
  {
   "cell_type": "markdown",
   "id": "881c28f8-24f6-414d-bbff-e7190e7aaa2e",
   "metadata": {},
   "source": [
    "#### Answer:\n",
    "Yes, it is permissible to use several import statements to import the same module. It is used in case when we have to import multiple functions from same module. "
   ]
  },
  {
   "cell_type": "markdown",
   "id": "4cca993e",
   "metadata": {},
   "source": [
    "#### Question 2:\n",
    "What are some of a module's characteristics? (Name at least one.)"
   ]
  },
  {
   "cell_type": "markdown",
   "id": "d3b2f381-99e9-473f-9e76-6ff401f31f31",
   "metadata": {},
   "source": [
    "#### Answer:\n",
    "The following are some of a module's characteristics:\n",
    "- **`__name__`** : It returns the name of the module\n",
    "- **`__doc__`** : It denotes the documentation string line written in a module code.\n",
    "- **`__file__`** : It holds the name and path of the module file from which it is loaded\n",
    "- **`__dict__`** : It return a dictionary object of module attributes, functions and other definitions and their respective values"
   ]
  },
  {
   "cell_type": "markdown",
   "id": "748f017b",
   "metadata": {},
   "source": [
    "#### Question 3. \n",
    "Circular importing, such as when two modules import each other, can lead to dependencies and bugs that aren't visible. How can you go about creating a program that avoids mutual importing?"
   ]
  },
  {
   "cell_type": "markdown",
   "id": "eaa48877-ccdf-4f3e-96db-30521bac8507",
   "metadata": {},
   "source": [
    "#### Answer:\n",
    "Circular importing means importing the two modules in each other. If suppose we are wokring in `MOD1.py` file and it is importing some function say F2() from some other module say\n",
    "`MOD2.PY` file or we can do vice-versa. What will happen is: This will give an `import error`.\n",
    "\n",
    "This is because when we import F2() function from module `MOD2.py`, then this will execute `MOD2.py` file. And in `MOD2.py` file there is an another statement of importing `MOD1.py` module.\n",
    "\n",
    "This will result in endless loop. To avoid this error just do one thingWe can use if `__name__ == '__main__'`\n",
    "\n",
    "In the function, you can't directly refer to the function in the program. The addition of this sentence avoids the endless loop of the program ."
   ]
  },
  {
   "cell_type": "markdown",
   "id": "74cfdc5e",
   "metadata": {},
   "source": [
    "#### Question 4:\n",
    "Why is  **`__all__`** in Python ?"
   ]
  },
  {
   "cell_type": "markdown",
   "id": "b319b4d1-ca1d-4636-8b74-4a31e4bbc966",
   "metadata": {},
   "source": [
    "#### Answer:\n",
    "It provides list of all modules present in a library. "
   ]
  },
  {
   "cell_type": "markdown",
   "id": "0d818cbd",
   "metadata": {},
   "source": [
    "#### Question 5:\n",
    "In what situation is it useful to refer to the `__name__` attribute or the string `__main_ _` ?"
   ]
  },
  {
   "cell_type": "markdown",
   "id": "0bdaa8a1-c352-4a01-b4f8-5255d36dbb5d",
   "metadata": {},
   "source": [
    "#### Answer:\n",
    "During the time of execution of the code if we want to refer the module in which we are working on then we uses name attribute. In that case it will return the module in which we are working on. Suppose if that moudle is being imported from some other module then name will have the name of that moudle from where the current module has been imported. The current module in which we are working is refer to the string `__main __`."
   ]
  }
 ],
 "metadata": {
  "kernelspec": {
   "display_name": "Python 3 (ipykernel)",
   "language": "python",
   "name": "python3"
  },
  "language_info": {
   "codemirror_mode": {
    "name": "ipython",
    "version": 3
   },
   "file_extension": ".py",
   "mimetype": "text/x-python",
   "name": "python",
   "nbconvert_exporter": "python",
   "pygments_lexer": "ipython3",
   "version": "3.9.13"
  }
 },
 "nbformat": 4,
 "nbformat_minor": 5
}
