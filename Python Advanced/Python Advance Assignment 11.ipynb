{
 "cells": [
  {
   "cell_type": "markdown",
   "id": "344e8e27",
   "metadata": {},
   "source": [
    "# Python Advance Assignment 11"
   ]
  },
  {
   "cell_type": "markdown",
   "id": "11489fdc",
   "metadata": {},
   "source": [
    "#### Question 1:\n",
    "What is the concept of a metaclass?"
   ]
  },
  {
   "cell_type": "markdown",
   "id": "f9b1627a-64fd-449e-b834-e08546b89147",
   "metadata": {},
   "source": [
    "#### Answer:\n",
    "Metaclass in Python is a class of a class that defines how a class behaves. \n",
    "A class is itself a instance of Metaclass, and any Instance of Class in Python is an Instance of type metaclass.\n",
    "E.g. Type of of `int`, `str`, `float`, `list`, `tuple` and many more is of metaclass type. "
   ]
  },
  {
   "cell_type": "markdown",
   "id": "a7c66d6f",
   "metadata": {},
   "source": [
    "#### Question 2: \n",
    "What is the best way to declare a class's metaclass?"
   ]
  },
  {
   "cell_type": "markdown",
   "id": "1b10e855-04a1-4b4a-8f85-63db6110c2c2",
   "metadata": {},
   "source": [
    "#### Answer:\n",
    "A way to declare a class’ metaclass is by using **`metaclass`** keyword in class definition."
   ]
  },
  {
   "cell_type": "code",
   "execution_count": 1,
   "id": "e1a13053",
   "metadata": {},
   "outputs": [
    {
     "name": "stdout",
     "output_type": "stream",
     "text": [
      "<class 'type'>\n",
      "<class '__main__.meta'>\n"
     ]
    }
   ],
   "source": [
    "class meta(type):\n",
    "    pass\n",
    "class class_meta(metaclass=meta):\n",
    "    pass\n",
    "print(type(meta))\n",
    "print(type(class_meta))"
   ]
  },
  {
   "cell_type": "markdown",
   "id": "938e3147",
   "metadata": {},
   "source": [
    "#### Question 3:\n",
    "How do class decorators overlap with metaclasses for handling classes ?"
   ]
  },
  {
   "cell_type": "markdown",
   "id": "42e0a96b-b0aa-4881-bbb6-dec0b06fc2cc",
   "metadata": {},
   "source": [
    "#### Answer:\n",
    "Anything you can do with a class decorator, you can of course do with a custom metaclasses \n",
    "(just apply the functionality of the \"decorator function\", i.e., the one that takes a class object and modifies it, \n",
    "in the course of the metaclass's **`__new__`** or **`__init__`** that make the class object!)."
   ]
  },
  {
   "cell_type": "markdown",
   "id": "3f57ffac",
   "metadata": {},
   "source": [
    "#### Question 4:\n",
    "How do class decorators overlap with metaclasses for handling instances?"
   ]
  },
  {
   "cell_type": "markdown",
   "id": "576acb08-fcd5-4853-a0e8-2c1c0f821c8a",
   "metadata": {},
   "source": [
    "#### Answer:\n",
    "Anything you can do with a class decorator, you can of course do with a custom metaclass \n",
    "(just apply the functionality of the \"decorator function\", i.e., the one that takes a class object and modifies it,\n",
    " in the course of the metaclass's **`__new__`** or **`__init__`** that make the class object!)."
   ]
  }
 ],
 "metadata": {
  "kernelspec": {
   "display_name": "Python 3 (ipykernel)",
   "language": "python",
   "name": "python3"
  },
  "language_info": {
   "codemirror_mode": {
    "name": "ipython",
    "version": 3
   },
   "file_extension": ".py",
   "mimetype": "text/x-python",
   "name": "python",
   "nbconvert_exporter": "python",
   "pygments_lexer": "ipython3",
   "version": "3.9.13"
  }
 },
 "nbformat": 4,
 "nbformat_minor": 5
}
