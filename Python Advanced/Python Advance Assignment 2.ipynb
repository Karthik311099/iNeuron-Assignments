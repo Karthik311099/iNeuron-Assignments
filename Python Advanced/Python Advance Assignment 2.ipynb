{
 "cells": [
  {
   "cell_type": "markdown",
   "id": "1a3464c1",
   "metadata": {},
   "source": [
    "# Python Advance Assignment 2"
   ]
  },
  {
   "cell_type": "markdown",
   "id": "fb424046-7183-465b-8869-49fb63d6311a",
   "metadata": {},
   "source": [
    "#### Question 1: \n",
    "What is the relationship between classes and modules?"
   ]
  },
  {
   "cell_type": "markdown",
   "id": "91f50838",
   "metadata": {},
   "source": [
    "#### Answer:\n",
    "- A Python class is like an outline/blueprint/mold for creating a new object. \n",
    "- An object is anything that you wish to manipulate or change while working through the code. \n",
    "- Every time a class object is instantiated, which is when we declare a variable, a new object is initiated from scratch\n",
    "  Whereas in Python, Modules are simply files with the **`.py`** extension containing Python code that can be imported inside another Python     Program. \n",
    "- In simple terms, we can consider a module to be the same as a code library or a file that contains \n",
    "  a set of functions/Classes that you want to include in your application."
   ]
  },
  {
   "cell_type": "markdown",
   "id": "ab5a43bc-b7ee-43af-95bb-11e3be7d095a",
   "metadata": {},
   "source": [
    "#### Question 2: \n",
    "How do you make instances and classes?"
   ]
  },
  {
   "cell_type": "markdown",
   "id": "92be3b82",
   "metadata": {},
   "source": [
    "#### Answer:\n",
    "For creating a class instance. we call a class by its name and pass the arguments which its **`__init__`** method accepts.\n",
    "\n",
    "**Example:** `Karthik = employee('Male',20000)`, Here Karthik is an instance of class employee with attriubutes 'Male' and 20000.\n",
    "Whereas for creating a class, we use the **`Class`** keyword. Class keyword is followed by classname and semicolon.\n",
    "\n",
    "Here Employee is a class created with `class` keyword with arguments gender and salary. "
   ]
  },
  {
   "cell_type": "code",
   "execution_count": 1,
   "id": "e60143c8-0e62-42dc-87b6-927373a88d07",
   "metadata": {},
   "outputs": [],
   "source": [
    "class Employee:\n",
    "    def __init__(self, gender,salary):\n",
    "        self.gender = gender\n",
    "        self.salary = salary"
   ]
  },
  {
   "cell_type": "markdown",
   "id": "2a0fa4f6-2298-4d5a-b44d-ab25b8f44914",
   "metadata": {},
   "source": [
    "#### Question 3: \n",
    "Where and how should be class attributes created?"
   ]
  },
  {
   "cell_type": "markdown",
   "id": "f5449ac6-8efa-4fbb-a850-a9d6f519d0db",
   "metadata": {},
   "source": [
    "#### Answer:\n",
    "Class attributes or Class level Attributes belong to the class itself. \n",
    "These attributes will be shared by all the instances of the class. \n",
    "Hence these attributes are usually created/defined in the top of class definiation outside all methods.\n",
    "\n",
    "**Example:** In the below code we are defining a class attribute called no_of_wheels \n",
    "which will be shared by all the instances of the class Car"
   ]
  },
  {
   "cell_type": "code",
   "execution_count": 2,
   "id": "c5c3b2e7-435a-46b5-9e6f-8bf960aefa4b",
   "metadata": {},
   "outputs": [],
   "source": [
    "class Car:\n",
    "    no_of_wheels = 4; # this is a class attribute\n",
    "    def __init__(self,color,price,engine):\n",
    "        self.color = color # All this are instance attributes\n",
    "        self.price = price\n",
    "        self.engine = engine"
   ]
  },
  {
   "cell_type": "markdown",
   "id": "31b130ed-81bf-4c50-bd33-da5bbc1d48db",
   "metadata": {},
   "source": [
    "#### Question 4:\n",
    "Where and how are instance attributes created?"
   ]
  },
  {
   "cell_type": "markdown",
   "id": "47c44e75",
   "metadata": {},
   "source": [
    "#### Answer:\n",
    "Instances attributes are passed to the class when an object of the class is created. Unlike class attributes, \n",
    "instance attributes are not shared by all objects of the classs. instead each object maintains its own copy of \n",
    "instance attributes at object level. whereas incase of class attributes all instances of class refer to a single copy. \n",
    "Usually instance attributes are defined within the **`__init__`** method of class\n",
    "\n",
    "**Example:** In the below sample code we are creating a class Car with instance varaibles color, price, engine, \n",
    "which will be provided when an instance of class Car is created.''\n",
    "\n",
    "In the below code, nexon_ev, safari are both the instances of class Car with different instance variables."
   ]
  },
  {
   "cell_type": "code",
   "execution_count": 3,
   "id": "a10dfd14-7a0a-40f0-aa28-18760d7d6021",
   "metadata": {},
   "outputs": [],
   "source": [
    "class Car:\n",
    "    def __init__(self,color,price,engine):\n",
    "        self.color = color # All this are instance attributes\n",
    "        self.price = price\n",
    "        self.engine = engine\n",
    "        \n",
    "nexon_ev = Car('Indigo Black', 1700000, 'electric')\n",
    "safari = Car('Pearl White',3100000, 'petrol')"
   ]
  },
  {
   "cell_type": "markdown",
   "id": "8314a1c7-8265-4bfc-b62f-3025e09f3fff",
   "metadata": {},
   "source": [
    "#### Question 5:\n",
    "What does the term \"self\" in a Python class mean?"
   ]
  },
  {
   "cell_type": "markdown",
   "id": "0ed28045",
   "metadata": {},
   "source": [
    "#### Answer:\n",
    "**`self`** represents the instance of the class (it represents the object itself). \n",
    "By using the “self” keyword we can access the attributes and methods of the class with in the class in python. \n",
    "It binds the attributes with the given arguments."
   ]
  },
  {
   "cell_type": "code",
   "execution_count": 4,
   "id": "7864bf87",
   "metadata": {},
   "outputs": [
    {
     "name": "stdout",
     "output_type": "stream",
     "text": [
      "{'color': 'Indigo Black', 'price': 1700000, 'engine': 'electric'}\n",
      "{'color': 'Pearl White', 'price': 3100000, 'engine': 'petrol'}\n"
     ]
    }
   ],
   "source": [
    "class Car:\n",
    "    def __init__(self,color,price,engine):\n",
    "        self.color = color # All this are instance attributes\n",
    "        self.price = price\n",
    "        self.engine = engine\n",
    "\n",
    "nexon_ev = Car('Indigo Black', 1700000, 'electric')\n",
    "safari = Car('Pearl White',3100000, 'petrol')\n",
    "\n",
    "print(nexon_ev.__dict__)\n",
    "print(safari.__dict__)"
   ]
  },
  {
   "cell_type": "markdown",
   "id": "f58ed1f8",
   "metadata": {},
   "source": [
    "#### Question 6. \n",
    "How does a Python class handle operator overloading?"
   ]
  },
  {
   "cell_type": "markdown",
   "id": "db5379cd-d97d-4f24-b512-abb377687c2a",
   "metadata": {},
   "source": [
    "#### Answer:\n",
    "Python Classes handle operator overloading by using special methods called **Magic methods**. \n",
    "these special methods usually begin and end with **`__`** (double underscore)  \n",
    "**Example:** Magic methods for basic arithmetic operators are:\n",
    "- `+ -> __add__()`\n",
    "- `- -> __sub__()`\n",
    "- `* -> __mul__()`\n",
    "- `/ -> __div__()`"
   ]
  },
  {
   "cell_type": "code",
   "execution_count": 5,
   "id": "1036292d-6298-41e3-b756-c26702f18432",
   "metadata": {},
   "outputs": [
    {
     "name": "stdout",
     "output_type": "stream",
     "text": [
      "The total number of pages in 2 books is 300\n"
     ]
    }
   ],
   "source": [
    "class Book:\n",
    "    def __init__(self,pages):\n",
    "        self.pages = pages\n",
    "    def __add__(self,other):\n",
    "        return self.pages + other.pages\n",
    "b1 = Book(100)\n",
    "b2 = Book(200)\n",
    "print(f'The total number of pages in 2 books is {b1+b2}')"
   ]
  },
  {
   "cell_type": "markdown",
   "id": "439d9d7e",
   "metadata": {},
   "source": [
    "#### Question 7:\n",
    "When do you consider allowing operator overloading of your classes?"
   ]
  },
  {
   "cell_type": "markdown",
   "id": "50e2b508-57d6-4c8d-ac37-78f7571feb5c",
   "metadata": {},
   "source": [
    "#### Answer:\n",
    "When we want to have different meaning for the same operator according to the context we use operator overloading."
   ]
  },
  {
   "cell_type": "markdown",
   "id": "2262ed5d-11ea-41c1-ab1b-d36bd484e844",
   "metadata": {},
   "source": [
    "#### Question 8:\n",
    "What is the most popular form of operator overloading?"
   ]
  },
  {
   "cell_type": "markdown",
   "id": "0cd1ea24",
   "metadata": {},
   "source": [
    "#### Answer:\n",
    "The most popular form of operator overloading in python is by special methods called **Magic methods**. \n",
    "Which usually beign and end with double underscore **`__<method name>__`**."
   ]
  },
  {
   "cell_type": "code",
   "execution_count": 6,
   "id": "f8444677",
   "metadata": {},
   "outputs": [
    {
     "name": "stdout",
     "output_type": "stream",
     "text": [
      "Sum -> 3\n",
      "String Concatenation -> Mano Vishnu\n"
     ]
    }
   ],
   "source": [
    "class A:\n",
    "    def __init__(self,a):\n",
    "        self.a = a\n",
    "    def __add__(self,o):\n",
    "        return self.a+o.a\n",
    "obj1 = A(1)\n",
    "obj2 = A(2)\n",
    "obj3 = A('Mano')\n",
    "obj4 = A(' Vishnu')\n",
    "print(f'Sum -> {obj1+obj2}')\n",
    "print(f'String Concatenation -> {obj3+obj4}')"
   ]
  },
  {
   "cell_type": "markdown",
   "id": "3ff6f7f0",
   "metadata": {},
   "source": [
    "#### Question 9:\n",
    "What are the two most important concepts to grasp in order to comprehend Python OOP code?"
   ]
  },
  {
   "cell_type": "markdown",
   "id": "569de290-6dc9-4295-84a8-e01899450e2a",
   "metadata": {},
   "source": [
    "#### Answer:\n",
    "**Classes** and **objects** are the two concepts to comprehend python OOP code as more formally objects are entities\n",
    "that represent instances of general abstract concept called class\n",
    "\n",
    "Along with classes and objects the important concepts to grasp are:\n",
    "1. Inheritence\n",
    "2. Abstraction\n",
    "3. Polymorphism\n",
    "4. Encapsulation"
   ]
  }
 ],
 "metadata": {
  "kernelspec": {
   "display_name": "Python 3 (ipykernel)",
   "language": "python",
   "name": "python3"
  },
  "language_info": {
   "codemirror_mode": {
    "name": "ipython",
    "version": 3
   },
   "file_extension": ".py",
   "mimetype": "text/x-python",
   "name": "python",
   "nbconvert_exporter": "python",
   "pygments_lexer": "ipython3",
   "version": "3.9.13"
  }
 },
 "nbformat": 4,
 "nbformat_minor": 5
}
