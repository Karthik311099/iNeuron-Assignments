{
 "cells": [
  {
   "cell_type": "markdown",
   "id": "57a871f3",
   "metadata": {},
   "source": [
    "# Assignment 20 Solutions"
   ]
  },
  {
   "cell_type": "markdown",
   "id": "e30d63bf-2c91-4bf8-9832-209ac3cc918d",
   "metadata": {},
   "source": [
    "#### Question 1:\n",
    "Compare and contrast the float and Decimal classes' benefits and drawbacks ?"
   ]
  },
  {
   "cell_type": "markdown",
   "id": "05ee62b2",
   "metadata": {
    "jp-MarkdownHeadingCollapsed": true,
    "tags": []
   },
   "source": [
    "#### Answer:\n",
    "Both the `float` and `decimal` types store numerical values in Python.\n",
    "\n",
    "Use `floats` when convenience and speed matter. A float gives you an approximation of the number you declare.\n",
    "\n",
    "Use `decimals` when precision matters. `Decimals` can suffer from their own precision issues, but generally, `decimals` are more precise than `floats`. The performance difference between `float` and `decimal`, with Python 3, is not outlandish, and in my experience, the precision benefits of a `decimal` outweigh the performance benefits of a `float`."
   ]
  },
  {
   "cell_type": "markdown",
   "id": "fd433d14",
   "metadata": {},
   "source": [
    "#### Question 2.\n",
    "Decimal('1.200') and Decimal('1.2') are two objects to consider. In what sense are these the same object? Are these just two ways of representing the exact same value, or do they correspond to different internal states ?"
   ]
  },
  {
   "cell_type": "markdown",
   "id": "f8a401b4-1688-486a-ae90-1c3383899d28",
   "metadata": {},
   "source": [
    "#### Answer:\n",
    "Both values are same but internal representation at storage Is different. Precsion  differs, `Decimal('1.200')` gives internally  `1.200` and  `Decimal('1.2')` gives `1.2`."
   ]
  },
  {
   "cell_type": "markdown",
   "id": "efc3efad",
   "metadata": {},
   "source": [
    "#### Question 3.\n",
    "What happens if the equality of Decimal('1.200') and Decimal('1.2') is checked ?"
   ]
  },
  {
   "cell_type": "markdown",
   "id": "1cc6e8c0-3090-45df-92ee-cba8cc684e60",
   "metadata": {},
   "source": [
    "#### Answer:\n",
    "Both values are checked to be equal , they only differ in precision."
   ]
  },
  {
   "cell_type": "markdown",
   "id": "8f6cda09",
   "metadata": {},
   "source": [
    "#### Question 4.\n",
    "Why is it preferable to start a Decimal object with a string rather than a floating-point value ?"
   ]
  },
  {
   "cell_type": "markdown",
   "id": "19b6480c-3207-45e6-80a9-91448ebc0dcf",
   "metadata": {},
   "source": [
    "#### Answer:\n",
    "Floating-point value is converted to Decimal format. Decimal can store float value with absolute precision. But when float value is given as Decimal object,it first has to be converted from floating point value which might already have rounding error.\n",
    "\n",
    "Hence it is preferable to start a Decimal object with a string."
   ]
  },
  {
   "cell_type": "markdown",
   "id": "2e42c0a6",
   "metadata": {},
   "source": [
    "#### Question 5.\n",
    "In an arithmetic phrase, how simple is it to combine Decimal objects with integers ?"
   ]
  },
  {
   "cell_type": "markdown",
   "id": "44f28319-1cf4-412f-be32-c0f94adbe246",
   "metadata": {},
   "source": [
    "#### Answer:\n",
    "We can do it with use of `Decimal()`."
   ]
  },
  {
   "cell_type": "markdown",
   "id": "6a9cf124",
   "metadata": {},
   "source": [
    "#### Question 6.\n",
    "Can Decimal objects and floating-point values be combined easily ?"
   ]
  },
  {
   "cell_type": "markdown",
   "id": "b6e4235f-7d7f-4594-bf64-ded1b19f8643",
   "metadata": {},
   "source": [
    "#### Answer:\n",
    "Arithmetic operfations like Adding,subtracting or multiplying a Decimal object by a floating-point value is generates an error.\n",
    "\n",
    "To do these operations, the floating point has to be converted to a Decimal."
   ]
  },
  {
   "cell_type": "markdown",
   "id": "860d14ca",
   "metadata": {},
   "source": [
    "#### Question 7.\n",
    "Using the Fraction class but not the Decimal class, give an example of a quantity that can be expressed with absolute precision ?"
   ]
  },
  {
   "cell_type": "markdown",
   "id": "0d89d707-3b26-43c3-a7ff-61cb4cb55a11",
   "metadata": {},
   "source": [
    "#### Answer:\n",
    "Value of `0.5` will be represented as `½`."
   ]
  },
  {
   "cell_type": "markdown",
   "id": "6702505a",
   "metadata": {},
   "source": [
    "#### Question 8.\n",
    "Consider the following two fraction objects: Fraction(1, 2) and Fraction(1, 2). (5, 10). Is the internal state of these two objects the same? Why do you think that is ?"
   ]
  },
  {
   "cell_type": "markdown",
   "id": "273ff28f-cbac-4daf-81fe-b8f7e3f8c54c",
   "metadata": {},
   "source": [
    "#### Answer:\n",
    "Both will be reduced to `1/2`"
   ]
  },
  {
   "cell_type": "markdown",
   "id": "1039ed6b",
   "metadata": {},
   "source": [
    "#### Question 9.\n",
    "How do the Fraction class and the integer type (int) relate to each other? Containment or inheritance ?"
   ]
  },
  {
   "cell_type": "markdown",
   "id": "c62e825f-f0ab-4ae9-b21d-e25268500c78",
   "metadata": {},
   "source": [
    "#### Answer:\n",
    "Fraction class and integer type(int) are related in form of a container.It contains two ints, one the numerator and the other the denominator"
   ]
  }
 ],
 "metadata": {
  "kernelspec": {
   "display_name": "Python 3 (ipykernel)",
   "language": "python",
   "name": "python3"
  },
  "language_info": {
   "codemirror_mode": {
    "name": "ipython",
    "version": 3
   },
   "file_extension": ".py",
   "mimetype": "text/x-python",
   "name": "python",
   "nbconvert_exporter": "python",
   "pygments_lexer": "ipython3",
   "version": "3.9.13"
  }
 },
 "nbformat": 4,
 "nbformat_minor": 5
}
