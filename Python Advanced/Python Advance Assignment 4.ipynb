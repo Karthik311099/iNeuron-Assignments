{
 "cells": [
  {
   "cell_type": "markdown",
   "id": "83640f69",
   "metadata": {},
   "source": [
    "# Python Advance Assignment 4"
   ]
  },
  {
   "cell_type": "markdown",
   "id": "133a4476-dbd5-4ab6-b189-8378f24d16e1",
   "metadata": {},
   "source": [
    "#### Question 1:\n",
    "Which two operator overloading methods can you use in your classes to support iteration?"
   ]
  },
  {
   "cell_type": "markdown",
   "id": "4c06fa86",
   "metadata": {},
   "source": [
    "#### Answer:\n",
    "**`__iter__`** and **`__next__`** are the operator overloading methods in python that support iteration\n",
    "and are collectively called iterator protocol.\n",
    "\n",
    "- **`__iter__`** returns the iterator object and is called at the start of loop in our respective class.\n",
    "- **`__next__`** is called at each loop increment, it returns the incremented value. \n",
    "  Also Stopiteration is raised when there is no value to return."
   ]
  },
  {
   "cell_type": "code",
   "execution_count": 1,
   "id": "90a386ed",
   "metadata": {},
   "outputs": [
    {
     "name": "stdout",
     "output_type": "stream",
     "text": [
      "5 6 7 8 9 10 11 12 13 14 15 "
     ]
    }
   ],
   "source": [
    "class Counter:\n",
    "    def __init__(self,low,high):\n",
    "        self.current = low\n",
    "        self.high = high\n",
    "    def __iter__(self):\n",
    "        return self\n",
    "    def __next__(self):\n",
    "        if self.current > self.high:\n",
    "            raise StopIteration\n",
    "        else:\n",
    "            self.current += 1\n",
    "            return self.current - 1\n",
    "for ele in Counter(5,15):\n",
    "    print(ele, end=\" \")"
   ]
  },
  {
   "cell_type": "markdown",
   "id": "5dc3f9a3-9344-451b-83f6-35b6a4773c39",
   "metadata": {},
   "source": [
    "#### Question 2:\n",
    "In what contexts do the two operator overloading methods manage printing?"
   ]
  },
  {
   "cell_type": "markdown",
   "id": "0b3e5985",
   "metadata": {},
   "source": [
    "#### Answer:\n",
    "**`__str__`** and **`__repr__`** are two operator overloading methods that manage printing.\n",
    "- In Short, the difference between both these operators is the goal of **`__repr__`** is to be unambiguous and **`__str__`** is to be readable.\n",
    "- Whenever we are printing any object reference internally **`__str__`** method will be called by default.\n",
    "- The main purpose of **`__str__`** is for readability.\n",
    "  it prints the informal string representation of an object, one that is useful for printing the object. \n",
    "  it may not be possible to convert result string to original object.\n",
    "- **`__repr__`** is used to print official string representation of an object, so it includes all information and development."
   ]
  },
  {
   "cell_type": "code",
   "execution_count": 2,
   "id": "8b12d86a",
   "metadata": {},
   "outputs": [
    {
     "name": "stdout",
     "output_type": "stream",
     "text": [
      "<__main__.Student object at 0x000002CD4EDD7AC0>\n",
      "Student Name: Karthik and Roll No: 1\n",
      "2023-06-13 22:32:55.071925\n",
      "Unable to convert back to original object\n",
      "datetime.datetime(2023, 6, 13, 22, 32, 55, 71925)\n",
      "2023-06-13 22:32:55.071925\n"
     ]
    }
   ],
   "source": [
    "class Student:\n",
    "    def __init__(self,name,roll_no):\n",
    "        self.name = name\n",
    "        self.roll_no = roll_no\n",
    "        \n",
    "s1 = Student(\"Karthik\",1)\n",
    "print(str(s1))\n",
    "\n",
    "class Student:\n",
    "    def __init__(self,name,roll_no):\n",
    "        self.name = name\n",
    "        self.roll_no = roll_no\n",
    "    def __str__(self):\n",
    "        return f'Student Name: {self.name} and Roll No: {self.roll_no}'\n",
    "    \n",
    "s1 = Student(\"Karthik\",1)\n",
    "print(str(s1))\n",
    "\n",
    "import datetime\n",
    "today = datetime.datetime.now()\n",
    "\n",
    "s = str(today) # converting datetime object to presentable str\n",
    "print(s)\n",
    "try: d = eval(s) # converting str back to datetime object\n",
    "except: print(\"Unable to convert back to original object\")\n",
    "    \n",
    "u = repr(today) # converting datetime object to str\n",
    "print(u)\n",
    "e = eval(u) # converting str back to datetime object\n",
    "print(e)"
   ]
  },
  {
   "cell_type": "markdown",
   "id": "71a88f34-bca1-43db-94b1-0f689ea55cb9",
   "metadata": {},
   "source": [
    "#### Question 3:\n",
    "In a class, how do you intercept slice operations?"
   ]
  },
  {
   "cell_type": "markdown",
   "id": "776e9c16",
   "metadata": {},
   "source": [
    "#### Answer:\n",
    "In a class use of `slice()` in `__getitem__` method is used for intercept slice operation. \n",
    "This slice method is provided with start integer number, stop integer number and step integer number. \n",
    "\n",
    "**Example:** `__getitem__(slice(start,stop,step))`"
   ]
  },
  {
   "cell_type": "markdown",
   "id": "b1b91648-6750-4248-8d0c-27a70c4b5a11",
   "metadata": {},
   "source": [
    "#### Question 4:\n",
    "In a class, how do you capture in-place addition?"
   ]
  },
  {
   "cell_type": "markdown",
   "id": "1960c808",
   "metadata": {},
   "source": [
    "#### Answer:\n",
    "**`a+b`** is normal addition. Whereas **`a+=b`** is inplace addition operation.\n",
    "In this in-place addition **`a`** itself will store the value of addition. \n",
    "In a class **`__iadd__`** method is used for this in-place operation"
   ]
  },
  {
   "cell_type": "code",
   "execution_count": 3,
   "id": "89e37d51",
   "metadata": {},
   "outputs": [
    {
     "name": "stdout",
     "output_type": "stream",
     "text": [
      "300\n"
     ]
    }
   ],
   "source": [
    "class Book:\n",
    "    def __init__(self,pages):\n",
    "        self.pages = pages\n",
    "    def __iadd__(self,other):\n",
    "        self.pages += other.pages\n",
    "        return self.pages\n",
    "        \n",
    "b1 = Book(100)\n",
    "b2 = Book(200)\n",
    "b1+=b2\n",
    "print(b1)"
   ]
  },
  {
   "cell_type": "markdown",
   "id": "341416c2",
   "metadata": {},
   "source": [
    "#### Question 5:\n",
    "When is it appropriate to use operator overloading?"
   ]
  },
  {
   "cell_type": "markdown",
   "id": "5d605b10-3436-4b44-9c42-79f781c1661a",
   "metadata": {},
   "source": [
    "#### Answer:\n",
    "Operator overloading is used when we want to use an operator other than its normal operation to have different meaning\n",
    "according to the context required in user defined function."
   ]
  },
  {
   "cell_type": "code",
   "execution_count": 4,
   "id": "14b44902",
   "metadata": {},
   "outputs": [
    {
     "name": "stdout",
     "output_type": "stream",
     "text": [
      "Total Number of Pages -> 300\n"
     ]
    }
   ],
   "source": [
    "class Book:\n",
    "    def __init__(self,pages):\n",
    "        self.pages = pages\n",
    "    def __add__(self,other):\n",
    "        return self.pages+other.pages\n",
    "b1 = Book(100)\n",
    "b2 = Book(200)\n",
    "print(f'Total Number of Pages -> {b1+b2}')"
   ]
  }
 ],
 "metadata": {
  "kernelspec": {
   "display_name": "Python 3 (ipykernel)",
   "language": "python",
   "name": "python3"
  },
  "language_info": {
   "codemirror_mode": {
    "name": "ipython",
    "version": 3
   },
   "file_extension": ".py",
   "mimetype": "text/x-python",
   "name": "python",
   "nbconvert_exporter": "python",
   "pygments_lexer": "ipython3",
   "version": "3.9.13"
  }
 },
 "nbformat": 4,
 "nbformat_minor": 5
}
