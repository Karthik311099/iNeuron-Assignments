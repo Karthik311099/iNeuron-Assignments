{
 "cells": [
  {
   "cell_type": "markdown",
   "id": "ce6590a1",
   "metadata": {},
   "source": [
    "# Python Advance Assignment 8"
   ]
  },
  {
   "cell_type": "markdown",
   "id": "efb72245",
   "metadata": {},
   "source": [
    "#### Question 1:\n",
    "What are the two latest user-defined exception constraints in Python 3.X?"
   ]
  },
  {
   "cell_type": "markdown",
   "id": "d4b49106-f3af-45d6-93a6-f04ecc738e03",
   "metadata": {},
   "source": [
    "#### Answer:\n",
    "**`raise`** and **`assert`** are the two latest user-defined exception constraints in Python 3.X"
   ]
  },
  {
   "cell_type": "markdown",
   "id": "f1479448",
   "metadata": {},
   "source": [
    "#### Question 2:\n",
    "How are class-based exceptions that have been raised matched to handlers?"
   ]
  },
  {
   "cell_type": "markdown",
   "id": "85332d68-c715-49ca-8bb4-d040025e5f5c",
   "metadata": {},
   "source": [
    "#### Answer:\n",
    "In python, Users can define custom exceptions by creating a new class. \n",
    "This exception class has to be derived, either directly or indirectly from built-in **`Exception`** class. \n",
    "This new exception class like other exceptions can be raised using the **`raise`** statement with an optional error message."
   ]
  },
  {
   "cell_type": "code",
   "execution_count": 1,
   "id": "648a981d",
   "metadata": {},
   "outputs": [
    {
     "ename": "ToYoungException",
     "evalue": "To Young For Voting",
     "output_type": "error",
     "traceback": [
      "\u001b[1;31m---------------------------------------------------------------------------\u001b[0m",
      "\u001b[1;31mToYoungException\u001b[0m                          Traceback (most recent call last)",
      "\u001b[1;32m~\\AppData\\Local\\Temp\\ipykernel_1168\\1019652075.py\u001b[0m in \u001b[0;36m<module>\u001b[1;34m\u001b[0m\n\u001b[0;32m      3\u001b[0m         \u001b[0mself\u001b[0m\u001b[1;33m.\u001b[0m\u001b[0mmsg\u001b[0m \u001b[1;33m=\u001b[0m \u001b[0mmsg\u001b[0m\u001b[1;33m\u001b[0m\u001b[1;33m\u001b[0m\u001b[0m\n\u001b[0;32m      4\u001b[0m \u001b[0mage\u001b[0m \u001b[1;33m=\u001b[0m \u001b[1;36m12\u001b[0m\u001b[1;33m\u001b[0m\u001b[1;33m\u001b[0m\u001b[0m\n\u001b[1;32m----> 5\u001b[1;33m \u001b[1;32mif\u001b[0m \u001b[0mage\u001b[0m \u001b[1;33m<=\u001b[0m \u001b[1;36m18\u001b[0m\u001b[1;33m:\u001b[0m \u001b[1;32mraise\u001b[0m \u001b[0mToYoungException\u001b[0m\u001b[1;33m(\u001b[0m\u001b[1;34m'To Young For Voting'\u001b[0m\u001b[1;33m)\u001b[0m\u001b[1;33m\u001b[0m\u001b[1;33m\u001b[0m\u001b[0m\n\u001b[0m",
      "\u001b[1;31mToYoungException\u001b[0m: To Young For Voting"
     ]
    }
   ],
   "source": [
    "class ToYoungException(Exception):\n",
    "    def __init__(self,msg):\n",
    "        self.msg = msg\n",
    "age = 12\n",
    "if age <= 18: raise ToYoungException('To Young For Voting')"
   ]
  },
  {
   "cell_type": "markdown",
   "id": "15ce7b10",
   "metadata": {},
   "source": [
    "#### Question 3:\n",
    "Describe two methods for attaching context information to exception artefacts ?"
   ]
  },
  {
   "cell_type": "markdown",
   "id": "25dfff0e-8167-463d-8feb-469d1516d1ee",
   "metadata": {},
   "source": [
    "#### Answer:\n",
    "The **`process()`** method of LoggerAdapter is where the contextual information is added to the logging output. \n",
    "its passes the message and keyword arguments of the logging call, and it passes back modified versions of these to use in the call\n",
    "to the underlying logger.\n",
    "Other method that can be used is **`exception()`**, Logs a messgae with level ERROR on this logger. \n",
    "The arguments are interpreted as for **`debug()`**. Exception info is added to the logging message."
   ]
  },
  {
   "cell_type": "markdown",
   "id": "7fbfd775",
   "metadata": {},
   "source": [
    "#### Question 4:\n",
    "Describe two methods for specifying the text of an exception object's error message ?"
   ]
  },
  {
   "cell_type": "markdown",
   "id": "1e158a5c-8ca6-48b4-9f5b-ab94273082fb",
   "metadata": {},
   "source": [
    "#### Answer:\n",
    "**`raise`** and **`assert`** are two methods for specifying the text of an exception object's error message.\n",
    "**`raise`** statement is used to trigger explicit exception, if certain condition is not as per requirement of programmer. \n",
    "it helps in triggering exception as per need of programmer and logic.\n",
    "There are few assertions that programmer always want to be True to avoid code failure. \n",
    "This type of requirment is fullfilled by **`assert`** statement. \n",
    "This statement takes a Boolean Condition output of which if True, further program executes. if output of assert statement is False it raises an **`Assertion Error`**."
   ]
  },
  {
   "cell_type": "markdown",
   "id": "0855de9b",
   "metadata": {},
   "source": [
    "#### Question 5:\n",
    "Why do you no longer use string-based exceptions?"
   ]
  },
  {
   "cell_type": "markdown",
   "id": "acaa6fbf-6af1-4730-8e60-9e813fc4277f",
   "metadata": {},
   "source": [
    "#### Answer:\n",
    "String-based Exceptions doesn't inherit from Exceptions. so plain exceptions catch all exceptions and not only system."
   ]
  }
 ],
 "metadata": {
  "kernelspec": {
   "display_name": "Python 3 (ipykernel)",
   "language": "python",
   "name": "python3"
  },
  "language_info": {
   "codemirror_mode": {
    "name": "ipython",
    "version": 3
   },
   "file_extension": ".py",
   "mimetype": "text/x-python",
   "name": "python",
   "nbconvert_exporter": "python",
   "pygments_lexer": "ipython3",
   "version": "3.9.13"
  }
 },
 "nbformat": 4,
 "nbformat_minor": 5
}
