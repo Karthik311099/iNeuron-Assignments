{
 "cells": [
  {
   "cell_type": "markdown",
   "id": "d3e4d46e",
   "metadata": {},
   "source": [
    "# Python Advance Assignment 23"
   ]
  },
  {
   "cell_type": "markdown",
   "id": "1f60b1e6",
   "metadata": {},
   "source": [
    "#### Question 1:\n",
    "If you have any, what are your choices for increasing the comparison between different figures on the same graph?"
   ]
  },
  {
   "cell_type": "markdown",
   "id": "17be5194-def4-4d28-83fd-c568366f3094",
   "metadata": {},
   "source": [
    "#### Answer:\n",
    "Matplotlib provides a convenient method called subplots for increasing the comparison between different figures on the same graph. Subplots mean a group of smaller axes (where each axis is a plot) that can exist together within a single figure."
   ]
  },
  {
   "cell_type": "markdown",
   "id": "db28f249",
   "metadata": {},
   "source": [
    "#### Question 2:\n",
    "Can you explain the benefit of compound interest over a higher rate of interest that does not compound after reading this chapter?"
   ]
  },
  {
   "cell_type": "markdown",
   "id": "409e3218-70e1-4f88-85ff-794509e9f107",
   "metadata": {},
   "source": [
    "#### Answer:\n",
    "Compound interest makes a sum of money grow at a faster rate than simple interest,because in addition to earning returns on the money you invest, you also earn returns on those returns at the end of every compounding period, which could be daily, monthly, quarterly or annually."
   ]
  },
  {
   "cell_type": "markdown",
   "id": "41155b92",
   "metadata": {},
   "source": [
    "#### Question 3:\n",
    "What is a histogram, exactly? Name a numpy method for creating such a graph ?"
   ]
  },
  {
   "cell_type": "markdown",
   "id": "4db4f64b-2c90-4a58-a411-a49d68db05c9",
   "metadata": {},
   "source": [
    "#### Answer:\n",
    "Histogram shows total values of X wrt Y. Which means at any particular position of X, Y value shows the total number of counts or data below that value of X. `numpy.histogram()` is the built in function used. "
   ]
  },
  {
   "cell_type": "markdown",
   "id": "c290f68f",
   "metadata": {},
   "source": [
    "#### Question 4:\n",
    "If necessary, how do you change the aspect ratios between the X and Y axes ?"
   ]
  },
  {
   "cell_type": "markdown",
   "id": "ec347da8-dea3-4cc8-b528-0e771472da3c",
   "metadata": {},
   "source": [
    "#### Answer:\n",
    "We can use `figure(figsize=(10,8))` function inside the `matplot.pyplot` library which we scale down or up the graph."
   ]
  },
  {
   "cell_type": "markdown",
   "id": "08349ded",
   "metadata": {},
   "source": [
    "#### Question 5:\n",
    "Compare and contrast the three types of array multiplication between two numpy arrays: dot product, outer product, and regular multiplication of two numpy arrays ?"
   ]
  },
  {
   "cell_type": "markdown",
   "id": "eac35a20-742c-4485-a586-8301080bc19b",
   "metadata": {},
   "source": [
    "#### Answer:\n",
    "In regular multiplication values of same index get multiplied.\n",
    "- In dot product there is row wise multiplication, row of one array with column of second array and so on.\n",
    "- In outer multiplication every element of first array a1 will be multiply by every element of other array a2 such such the number of columns will be equal to the number of element in another array a2."
   ]
  },
  {
   "cell_type": "markdown",
   "id": "633bb299",
   "metadata": {},
   "source": [
    "#### Question 6:\n",
    "Before you buy a home, which numpy function will you use to measure your monthly mortgage payment ?"
   ]
  },
  {
   "cell_type": "markdown",
   "id": "6feb61ff-02cd-40f0-a5d9-2501734f195a",
   "metadata": {},
   "source": [
    "#### Answer:\n",
    "`np.pmt(rate, nper, pv)` function we will be using in order to calculate monthly mortgage payment before you purchase a house.\n",
    "- `rate` = The periodic interest rate\n",
    "- `nper` = The number of payment periods\n",
    "- `pv` = The total value of the mortgage loan"
   ]
  },
  {
   "cell_type": "markdown",
   "id": "17cffb18",
   "metadata": {},
   "source": [
    "#### Question 7:\n",
    "Can string data be stored in numpy arrays? If so, list at least one restriction that applies to this data ?"
   ]
  },
  {
   "cell_type": "markdown",
   "id": "39c7d0a6-1ebd-4421-8bd6-5a7cb2fcf3d7",
   "metadata": {},
   "source": [
    "#### Answer:\n",
    "Yes, an array can store the string. The limitation which imposed on the string data is, whenever we store the data of string dtype then it should should keep in mind that the string which is having the maximum length is the limit. "
   ]
  }
 ],
 "metadata": {
  "kernelspec": {
   "display_name": "Python 3 (ipykernel)",
   "language": "python",
   "name": "python3"
  },
  "language_info": {
   "codemirror_mode": {
    "name": "ipython",
    "version": 3
   },
   "file_extension": ".py",
   "mimetype": "text/x-python",
   "name": "python",
   "nbconvert_exporter": "python",
   "pygments_lexer": "ipython3",
   "version": "3.9.13"
  }
 },
 "nbformat": 4,
 "nbformat_minor": 5
}
