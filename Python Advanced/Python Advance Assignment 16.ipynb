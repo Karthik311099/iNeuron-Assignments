{
 "cells": [
  {
   "cell_type": "markdown",
   "id": "1b34bd2a",
   "metadata": {},
   "source": [
    "# Python Advance Assignment 16"
   ]
  },
  {
   "cell_type": "markdown",
   "id": "f8313cc0",
   "metadata": {},
   "source": [
    "#### Question 1:\n",
    "What is the benefit of regular expressions?"
   ]
  },
  {
   "cell_type": "markdown",
   "id": "576890be-fd68-4c20-acc9-d0de86b4a8c1",
   "metadata": {},
   "source": [
    "#### Answer:\n",
    "Regular Expressions, also known as **`regex`** or **`regexp`**, are used to match strings of text such as \n",
    "particular characters, words, or patterns of characters. \n",
    "It means that we can match and extract any string pattern from the text with the help of regular expressions. \n",
    "It helps the programmers to Write less and cleaner code. it also avoids multiple use of **`if/else`** statements."
   ]
  },
  {
   "cell_type": "markdown",
   "id": "3ec69ca0",
   "metadata": {},
   "source": [
    "#### Question 2:\n",
    "Describe the difference between the effects of \"(ab)c+\" and \"a(bc)+\" Which of these, if any, is the unqualified pattern \"abc+\"?"
   ]
  },
  {
   "cell_type": "markdown",
   "id": "ddbc3395-5f9f-4981-9afc-a62d99c949e3",
   "metadata": {},
   "source": [
    "#### Answer:\n",
    "Both **`(ab)c+`** and **`a(bc)+`** are valid patterns. \n",
    "The difference between both these patterns is in **`(ab)c+`** **`ab`** is group whereas in **`a(bc)+`** **`bc`** is a group."
   ]
  },
  {
   "cell_type": "markdown",
   "id": "2b4c8728",
   "metadata": {},
   "source": [
    "#### Question 3:\n",
    "How much do you need to use the following sentence while using regular expressions?\n",
    "**`import re`** "
   ]
  },
  {
   "cell_type": "markdown",
   "id": "f3369981-acb3-403c-81d5-11da4a7c0a3e",
   "metadata": {},
   "source": [
    "#### Answer:\n",
    "**`import re`** statement always has to be imported before using regular expressions."
   ]
  },
  {
   "cell_type": "markdown",
   "id": "2338be46",
   "metadata": {},
   "source": [
    "#### Question 4:\n",
    "Which characters have special significance in square brackets when expressing a range, and under what circumstances?"
   ]
  },
  {
   "cell_type": "markdown",
   "id": "8df806ac-d66a-4ad4-a2ca-73764231d363",
   "metadata": {},
   "source": [
    "#### Answer:\n",
    "The Characters **`.`,`*`,`?`,`^`**,or,**`()`**, have a special signiface when used with square brackets. \n",
    "They need not be be explicitly escaped by **`\\`** as in case of pattern texts in a raw string."
   ]
  },
  {
   "cell_type": "markdown",
   "id": "bc0c3bef",
   "metadata": {},
   "source": [
    "#### Question 5:\n",
    "How does compiling a regular-expression object benefit you?"
   ]
  },
  {
   "cell_type": "markdown",
   "id": "9f062e6c-ee40-4c79-b398-36cd3205f309",
   "metadata": {},
   "source": [
    "#### Answer:\n",
    "We can Combine a regular expression pattern into pattern Objects.Which can be used for pattern matching. \n",
    "It also helps to search a pattern again without rewritting it."
   ]
  },
  {
   "cell_type": "markdown",
   "id": "a81702bc-fff4-4bc2-93d0-7d58ca49a88d",
   "metadata": {},
   "source": [
    "#### Question 6:\n",
    "What are some examples of how to use the match object returned by re.match and re.search?"
   ]
  },
  {
   "cell_type": "markdown",
   "id": "c2885976",
   "metadata": {
    "tags": []
   },
   "source": [
    "#### Answer:\n",
    "The **`re.search()`** and **`re.match()`** both are functions of re module in python. These functions are very efficient and fast for searching in strings. The function searches for some substring in a string and returns a match object if found, else it returns none.\n",
    "\n",
    "There is a difference between the use of both functions. Both return the first match of a substring found in the string, but **`re.match()`** searches only from the beginning of the string and return match object if found. But if a match of substring is found somewhere in the middle of the string, it returns none. \n",
    "\n",
    "While **`re.search()`** searches for the whole string even if the string contains multi-lines and tries to find a match of the substring in all the lines of string"
   ]
  },
  {
   "cell_type": "code",
   "execution_count": 1,
   "id": "358eb508",
   "metadata": {},
   "outputs": [
    {
     "name": "stdout",
     "output_type": "stream",
     "text": [
      "<re.Match object; span=(66, 72), match='string'>\n",
      "None\n",
      "<re.Match object; span=(0, 6), match='string'>\n",
      "<re.Match object; span=(0, 6), match='string'>\n"
     ]
    }
   ],
   "source": [
    "import re\n",
    "Substring ='string' \n",
    "String1 ='We are learning regex with geeksforgeeks regex is very useful for string matching. It is fast too.' \n",
    "String2 ='string We are learning regex with geeksforgeeks regex is very useful for string matching. It is fast too.'\n",
    "print(re.search(Substring, String1, re.IGNORECASE))\n",
    "print(re.match(Substring, String1, re.IGNORECASE))\n",
    "print(re.search(Substring, String2, re.IGNORECASE))\n",
    "print(re.match(Substring, String2, re.IGNORECASE))"
   ]
  },
  {
   "cell_type": "markdown",
   "id": "babed21c",
   "metadata": {},
   "source": [
    "#### Question 7:\n",
    "What is the difference between using a vertical bar (|) as an alteration and using square brackets as a character set?"
   ]
  },
  {
   "cell_type": "markdown",
   "id": "e808eba9-24ca-4d3a-9856-e45809da91b9",
   "metadata": {},
   "source": [
    "#### Answer:\n",
    "When **`|`** us used then patterns searches for **`or`** option. i.e **`<pattern_1>|<pattern_2>`** means it searches as **`<pattern_1>or<<pattern_2>`** in the searched string. the first occurance of matched string will be returned as the Match Object.\n",
    "Using Character set in square Brackets searches for all the character set in the square bracket and if match is found, it returns it."
   ]
  },
  {
   "cell_type": "markdown",
   "id": "aad2feb4",
   "metadata": {},
   "source": [
    "#### Question 8:\n",
    "In regular-expression search patterns, why is it necessary to use the raw-string indicator (r)? In   replacement strings?"
   ]
  },
  {
   "cell_type": "markdown",
   "id": "9776db82-ba85-4d5b-95a8-edd9253d8666",
   "metadata": {},
   "source": [
    "#### Answer:\n",
    "Raw Strings are used in the regular-expression search patterns, so that blackslashes donot have to be escaped."
   ]
  }
 ],
 "metadata": {
  "kernelspec": {
   "display_name": "Python 3 (ipykernel)",
   "language": "python",
   "name": "python3"
  },
  "language_info": {
   "codemirror_mode": {
    "name": "ipython",
    "version": 3
   },
   "file_extension": ".py",
   "mimetype": "text/x-python",
   "name": "python",
   "nbconvert_exporter": "python",
   "pygments_lexer": "ipython3",
   "version": "3.9.13"
  }
 },
 "nbformat": 4,
 "nbformat_minor": 5
}
