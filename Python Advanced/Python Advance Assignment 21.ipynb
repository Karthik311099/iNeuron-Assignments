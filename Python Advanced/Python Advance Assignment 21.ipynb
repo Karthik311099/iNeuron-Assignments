{
 "cells": [
  {
   "cell_type": "markdown",
   "id": "995281bf",
   "metadata": {},
   "source": [
    "# Python Advance Assignment 21"
   ]
  },
  {
   "cell_type": "markdown",
   "id": "65a92b4a",
   "metadata": {},
   "source": [
    "#### Question 1:\n",
    "What is a probability distribution, exactly? If the values are meant to be random, how can you predict them at all ?"
   ]
  },
  {
   "cell_type": "markdown",
   "id": "875a472e-eeab-40d2-ac53-6b4988b3b2b1",
   "metadata": {},
   "source": [
    "#### Answer:\n",
    "A probability distribution describes how a random variable is distributed.\n",
    "\n",
    "It tells us which values a random variable is most likely to take on and which values are less likely. Based on the previous data and the occurences of the random event, we can predict the outcome in terms of probabilities. "
   ]
  },
  {
   "cell_type": "markdown",
   "id": "06c8734d",
   "metadata": {},
   "source": [
    "#### Question 2:\n",
    "Is there a distinction between true random numbers and pseudo-random numbers, if there is one? Why are the latter considered “good enough”?"
   ]
  },
  {
   "cell_type": "markdown",
   "id": "2504ae07-4f5f-4d26-9469-59147c71d78a",
   "metadata": {},
   "source": [
    "#### Answer:\n",
    "True Random Numbers are true physical values while pseudo-random numbers are generated internally by a program . Latter is considered good enough as they have sort of uniform\n",
    "distribution. "
   ]
  },
  {
   "cell_type": "markdown",
   "id": "1e19043f",
   "metadata": {},
   "source": [
    "#### Question 3:\n",
    "What are the two main factors that influence the behaviour of a \"normal\" probability distribution ?"
   ]
  },
  {
   "cell_type": "markdown",
   "id": "a3365d1a-0e9d-4cb5-9124-1734248c73c2",
   "metadata": {},
   "source": [
    "#### Answer:\n",
    "Normal Probability Distribution are influenced by two factors mean and the variance. "
   ]
  },
  {
   "cell_type": "markdown",
   "id": "e75110f5",
   "metadata": {},
   "source": [
    "#### Question 4:\n",
    "Provide a real-life example of a normal distribution ?"
   ]
  },
  {
   "cell_type": "markdown",
   "id": "303f4e72-65a1-419a-84db-5a745f16852e",
   "metadata": {},
   "source": [
    "#### Answer:\n",
    "A Real-life example of a normal distribution are heights or blood pressure measurements"
   ]
  },
  {
   "cell_type": "markdown",
   "id": "eba32f70",
   "metadata": {},
   "source": [
    "#### Question 5:\n",
    "In the short term, how can you expect a probability distribution to behave? What do you think will happen as the number of trials grows ?"
   ]
  },
  {
   "cell_type": "markdown",
   "id": "08dd3da8-cf76-4151-abee-ac36b18e9c13",
   "metadata": {},
   "source": [
    "#### Answer:\n",
    "Variance will decrease with number of trials"
   ]
  },
  {
   "cell_type": "markdown",
   "id": "82eba016",
   "metadata": {},
   "source": [
    "#### Question 6:\n",
    "What kind of object can be shuffled by using random.shuffle ?"
   ]
  },
  {
   "cell_type": "markdown",
   "id": "a3d3c3e7-4133-48ac-a702-46ab249e4f62",
   "metadata": {},
   "source": [
    "#### Answer:\n",
    "lists (`list`), strings (`str`) and tuples (`tuple`) objects can be shuffled by using `random.shuffle`."
   ]
  },
  {
   "cell_type": "markdown",
   "id": "c1ba9930",
   "metadata": {},
   "source": [
    "#### Question 7:\n",
    "Describe the math package's general categories of functions ?"
   ]
  },
  {
   "cell_type": "markdown",
   "id": "e27a7017-046c-437f-a0a8-6735c2ebf415",
   "metadata": {},
   "source": [
    "#### Answer:\n",
    "The Math package's general categories of functions are:\n",
    "1. Trigonometric functions\n",
    "2. Quadratic functions\n",
    "3. Exponential functions\n",
    "4. Hyperbolic functions\n",
    "5. Periodic functions\n",
    "6. Arithmetic functions\n",
    "7. Logarithimic functions\n",
    "8. Conversions to Integer"
   ]
  },
  {
   "cell_type": "markdown",
   "id": "cbab2356",
   "metadata": {},
   "source": [
    "#### Question 8:\n",
    "What is the relationship between exponentiation and logarithms ?"
   ]
  },
  {
   "cell_type": "markdown",
   "id": "e1ccc5ac-f49f-4827-be28-5ed6a26ac73b",
   "metadata": {},
   "source": [
    "#### Answer:\n",
    "Exponentiation and logarithms are inverse of each other. "
   ]
  },
  {
   "cell_type": "markdown",
   "id": "43787cec",
   "metadata": {},
   "source": [
    "#### Question 9:\n",
    "What are the three logarithmic functions that Python supports ?"
   ]
  },
  {
   "cell_type": "markdown",
   "id": "dfbd3c21-f3d4-4171-8e07-1bc6148623cf",
   "metadata": {},
   "source": [
    "#### Answer:\n",
    "The Three Logarithmic Functions that Python supports are:\n",
    "1. `log2(x)` - logarithmic value of x to base 2\n",
    "2. `log10(x)` - logarithmic value of x to base 10 \n",
    "3. `log1p(a)` - This function is used to compute logarithm(1+a) . "
   ]
  }
 ],
 "metadata": {
  "kernelspec": {
   "display_name": "Python 3 (ipykernel)",
   "language": "python",
   "name": "python3"
  },
  "language_info": {
   "codemirror_mode": {
    "name": "ipython",
    "version": 3
   },
   "file_extension": ".py",
   "mimetype": "text/x-python",
   "name": "python",
   "nbconvert_exporter": "python",
   "pygments_lexer": "ipython3",
   "version": "3.9.13"
  }
 },
 "nbformat": 4,
 "nbformat_minor": 5
}
