{
 "cells": [
  {
   "cell_type": "markdown",
   "id": "b8a3dddb",
   "metadata": {},
   "source": [
    "# Python Basic Assignment-24"
   ]
  },
  {
   "cell_type": "markdown",
   "id": "08f2f66a",
   "metadata": {},
   "source": [
    "#### Question 1. \n",
    "What is the relationship between def statements and lambda expressions ?"
   ]
  },
  {
   "cell_type": "markdown",
   "id": "8a1ac388",
   "metadata": {},
   "source": [
    "def keyword is used to create named function in python, Function naming follows the same rules of writing identifiers in Python\n",
    "\n",
    "Lambdas are one-line functions without a name, in other words using lambdas we can create anonymous functions in python. Lambda functions work practically the same as any other method in Python. Lambdas differ from normal Python methods because they can have only one expression, and they can't contain any statements and their return type is a function object\n"
   ]
  },
  {
   "cell_type": "markdown",
   "id": "97c20c7e",
   "metadata": {},
   "source": [
    "#### Question 2.\n",
    "What is the benefit of lambda?"
   ]
  },
  {
   "cell_type": "markdown",
   "id": "e90037fe",
   "metadata": {},
   "source": [
    "Fewer Lines of Code Lambda functions are inline functions and thus execute comparatively faster Many times lambda functions make code much more readable by avoiding the logical jumps caused by function calls"
   ]
  },
  {
   "cell_type": "markdown",
   "id": "4fe3f0f9",
   "metadata": {},
   "source": [
    "#### Question 3.\n",
    "Compare and contrast map, filter, and reduce."
   ]
  },
  {
   "cell_type": "markdown",
   "id": "da886db0",
   "metadata": {},
   "source": [
    "1. map\n",
    "    -> applies as a transformation to an element. \n",
    "    -> The map() function iterates through all items in the given iterable and executes the function we passed as an argument on each of them. \n",
    "        Syntax : map(function, iterable(s))\n",
    "2. filter: \n",
    "    -> accumulates only elements matching a condition. \n",
    "    -> filter() forms a new list that contains only elements that satisfy a certain condition, \n",
    "        i.e. the function we passed returns True Syntax : filter(function, iterable(s))\n",
    "3. reduce: \n",
    "    -> accumulates all elements to a single value, by using immutable values reduce() works by calling the function \n",
    "       we passed for the first two items in the sequence. \n",
    "    -> The result returned by the function is used in another call to function alongside with the next (third in this case), element\n",
    "    Syntax : reduce(function, sequence[, initial])\n"
   ]
  },
  {
   "cell_type": "markdown",
   "id": "c8029b3d",
   "metadata": {},
   "source": [
    "#### Question 4.\n",
    "What are function annotations, and how are they used?"
   ]
  },
  {
   "cell_type": "markdown",
   "id": "aafeb85d",
   "metadata": {},
   "source": [
    "Function annotation is the standard way to access the metadata with the arguments and the return value of the function. These are optional Python expressions that get allied to different parts of the function. They get evaluated only during the compile-time and have no significance during the run-time of the code. They do not have any significance or meaning associated with them until accessed by some third-party libraries. They are used to type check the functions by declaring the type of the parameters and the return value for the functions. The string-based annotations help us to improve the help messages.\n",
    "\n",
    "Syntax : def func(a: 'int') -> 'int': pass\n",
    "\n",
    "Annotations for simple parameters: def func(x: 'float'=10.8, y: 'argument2'): In the above code the argument, ‘x’ of the function func, has been annotated to float data type and the argument ‘y’ has a string-based annotation. The argument can also be assigned to a default value using a ‘=’ symbol followed by the default value. These default values are optional to the code.\n",
    "\n",
    "Annotations for return values: def func(a: expression) -> 'int': The annotations for the return value is written after the ‘->’ symbol.\n",
    "\n",
    "example :"
   ]
  },
  {
   "cell_type": "code",
   "execution_count": 1,
   "id": "93b973b9",
   "metadata": {},
   "outputs": [
    {
     "data": {
      "text/plain": [
       "'Hello Jack, you are 23 years old!'"
      ]
     },
     "execution_count": 1,
     "metadata": {},
     "output_type": "execute_result"
    }
   ],
   "source": [
    "def greet(name: str, age: int) -> str:\n",
    "    return f\"Hello {name}, you are {age} years old!\"\n",
    "\n",
    "greet(\"Jack\", 23)\n"
   ]
  },
  {
   "cell_type": "markdown",
   "id": "a288cfce",
   "metadata": {},
   "source": [
    "#### Question 5. \n",
    "What are recursive functions, and how are they used?"
   ]
  },
  {
   "cell_type": "markdown",
   "id": "46b1aff5",
   "metadata": {},
   "source": [
    "A recursive function is a function that calls itself during its execution. This means that the function will continue to call itself and repeat its behavior until some condition is met to return a result"
   ]
  },
  {
   "cell_type": "code",
   "execution_count": 2,
   "id": "01df8c3c",
   "metadata": {},
   "outputs": [
    {
     "data": {
      "text/plain": [
       "720"
      ]
     },
     "execution_count": 2,
     "metadata": {},
     "output_type": "execute_result"
    }
   ],
   "source": [
    "# example\n",
    "def fact(n):\n",
    "    \n",
    "    if n == 0:\n",
    "        return 1\n",
    "    \n",
    "    else:\n",
    "        return n * fact(n-1)\n",
    "\n",
    "\n",
    "fact(6)"
   ]
  },
  {
   "cell_type": "markdown",
   "id": "650188b7",
   "metadata": {},
   "source": [
    "#### Question 6.\n",
    "What are some general design guidelines for coding functions?"
   ]
  },
  {
   "cell_type": "markdown",
   "id": "c7340c22",
   "metadata": {},
   "source": [
    "1. Use 4-space indentation and no tabs.\n",
    "2. Use docstrings\n",
    "3. Wrap linethat they don’t exceed 79 characters\n",
    "4. Use of regular and updated comments are valuable to both the coders and users\n",
    "5. Use of trailing commas : in case of tuple -> ('good',)\n",
    "6. Use Python’s default UTF-8 or ASCII encodings and not any fancy encodings\n",
    "7. Naming Conventions 8.Characters that should not be used for identifiers:\n",
    "    ‘l’ (lowercase letter el),\n",
    "    ‘O’ (uppercase letter oh),\n",
    "    ‘I’ (uppercase letter eye) as single character variable names as these are similar to the numerals one and zero.\n",
    "8. Don’t use non-ASCII characters in identifiers\n",
    "9. Name your classes and functions consistently\n",
    "10. While naming of function of methods always use self for the first argument\n"
   ]
  },
  {
   "cell_type": "markdown",
   "id": "4be542a6",
   "metadata": {},
   "source": [
    "#### Question 7.\n",
    "Name three or more ways that functions can communicate results to a caller."
   ]
  },
  {
   "cell_type": "markdown",
   "id": "e13184b5",
   "metadata": {},
   "source": [
    "-> Function can return single value\n",
    "-> Can return multiple values, tuple\n",
    "-> can return list,dictionary\n",
    "-> can return function object\n",
    "-> can return class object (ex: SQL Connection object)\n",
    "-> can update an output variable\n",
    "-> can update a global variable\n",
    "-> can update/create a file"
   ]
  }
 ],
 "metadata": {
  "kernelspec": {
   "display_name": "Python 3 (ipykernel)",
   "language": "python",
   "name": "python3"
  },
  "language_info": {
   "codemirror_mode": {
    "name": "ipython",
    "version": 3
   },
   "file_extension": ".py",
   "mimetype": "text/x-python",
   "name": "python",
   "nbconvert_exporter": "python",
   "pygments_lexer": "ipython3",
   "version": "3.9.13"
  }
 },
 "nbformat": 4,
 "nbformat_minor": 5
}
