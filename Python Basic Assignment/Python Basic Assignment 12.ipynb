{
 "cells": [
  {
   "cell_type": "markdown",
   "metadata": {},
   "source": [
    "# Python Basic Assignment 12"
   ]
  },
  {
   "cell_type": "markdown",
   "metadata": {},
   "source": [
    "#### Question 1:\n",
    "In what modes should the PdfFileReader() and PdfFileWriter() File objects will be opened?"
   ]
  },
  {
   "cell_type": "markdown",
   "metadata": {},
   "source": [
    "#### Answer:\n",
    "    -> PdfFileReader() should be opened in read-binary mode.\n",
    "    -> PdfFileWriter() should be opened in write-binary mode."
   ]
  },
  {
   "cell_type": "markdown",
   "metadata": {},
   "source": [
    "#### Question 2:\n",
    "From a PdfFileReader object, how do you get a Page object for page 5?"
   ]
  },
  {
   "cell_type": "markdown",
   "metadata": {},
   "source": [
    "#### Answer:\n",
    "PdfFileReader.getPage(2)"
   ]
  },
  {
   "cell_type": "markdown",
   "metadata": {},
   "source": [
    "#### Question 3:\n",
    "What PdfFileReader variable stores the number of pages in the PDF document?"
   ]
  },
  {
   "cell_type": "markdown",
   "metadata": {},
   "source": [
    "#### Answer:\n",
    "num_pages = pdf_reader.getNumPages()"
   ]
  },
  {
   "cell_type": "markdown",
   "metadata": {},
   "source": [
    "#### Question 4:\n",
    "If a PdfFileReader object’s PDF is encrypted with the password swordfish,\n",
    "what must you do before you can obtain Page objects from it?"
   ]
  },
  {
   "cell_type": "markdown",
   "metadata": {},
   "source": [
    "#### Answer:\n",
    "decrypt the PDF with the password \"swordfish\"\n",
    "\n",
    "obj.decrypt(\"swordfish\")"
   ]
  },
  {
   "cell_type": "markdown",
   "metadata": {},
   "source": [
    "#### Question 5:\n",
    "What methods do you use to rotate a page?"
   ]
  },
  {
   "cell_type": "markdown",
   "metadata": {},
   "source": [
    "#### Answer:\n",
    "    -> rotateClockwise() and\n",
    "    -> rotateCounterClockwise()"
   ]
  },
  {
   "cell_type": "markdown",
   "metadata": {},
   "source": [
    "#### Question 6:\n",
    "What is the difference between a Run object and a Paragraph object?"
   ]
  },
  {
   "cell_type": "markdown",
   "metadata": {},
   "source": [
    "#### Answer:\n",
    "paragraps object is needed to get paragraph from a document, \n",
    "runs object is needed whenever text style changes in a paragraph."
   ]
  },
  {
   "cell_type": "markdown",
   "metadata": {},
   "source": [
    "#### Question 7:\n",
    "How do you obtain a list of Paragraph objects for a Document object that’s stored in a variable named doc?"
   ]
  },
  {
   "cell_type": "code",
   "execution_count": 31,
   "metadata": {},
   "outputs": [
    {
     "name": "stdout",
     "output_type": "stream",
     "text": [
      "[<docx.text.paragraph.Paragraph object at 0x000001B10A635EE0>, <docx.text.paragraph.Paragraph object at 0x000001B10A62F310>, <docx.text.paragraph.Paragraph object at 0x000001B108BC90D0>, <docx.text.paragraph.Paragraph object at 0x000001B108BC9E80>, <docx.text.paragraph.Paragraph object at 0x000001B108BC9070>]\n",
      "India, officially the Republic of India (: Bhārat Gaṇarājya), is a country in . It is the  by area and the most populous country in the world. Bounded by the  on the south, the  on the southwest, and the  on the southeast, it shares land borders with  to the west; , , and  to the north; and  and  to the east. In the Indian Ocean, India is in the vicinity of  and the ; its  share a maritime border with , Myanmar, and .\n",
      " arrived on the  from Africa no later than 55,000 years ago. Their long occupation, initially in varying forms of isolation as hunter-gatherers, has made the region highly diverse, second only to Africa in human .  emerged on the subcontinent in the western margins of the   9,000 years ago, evolving gradually into the  of the third millennium BCE. By 1200 BCE, an  of , an , had  into India from the northwest. Its evidence today is found in the hymns of the . Preserved by a resolutely vigilant , the Rigveda records the dawning of  in India. The  of India were supplanted in the northern and western regions. By 400 BCE,  and  by  had emerged within Hinduism, and  and  had arisen, proclaiming  unlinked to heredity. Early political consolidations gave rise to the loose-knit  and  based in the . Their collective  was suffused with wide-ranging creativity, but also marked by the declining status of women, and the incorporation of  into an organised system of belief. In , the  exported Dravidian-languages scripts and religious cultures to the kingdoms of .\n",
      "In the early medieval era, , , , and  became established on India's southern and western coasts. Muslim armies from  intermittently overran India's northern plains, eventually founding the , and drawing northern India into the cosmopolitan . In the 15th century, the  created a long-lasting composite Hindu culture in south India. In the ,  emerged, rejecting institutionalised religion. The , in 1526, ushered in two centuries of relative peace, leaving a legacy of luminous architecture. Gradually expanding  followed, turning India into a colonial economy, but also consolidating its .  began in 1858. The rights promised to Indians were granted slowly, but  were introduced, and modern ideas of education and the public life took root. A pioneering and influential nationalist movement emerged, which was noted for nonviolent resistance and became the major factor in ending British rule. In 1947 the British Indian Empire was  into two independent , a Hindu-majority  and a Muslim-majority , amid large-scale loss of life and an unprecedented migration.\n",
      "India has been a  since 1950, governed through a democratic . It is a ,  and . India's population grew from 361 million in 1951 to almost 1.4 billion in 2022. During the same time, its nominal  increased from US$64 annually to US$1,498, and its literacy rate from 16.6% to 74%. From being a comparatively destitute country in 1951, India has become a   and a hub for , with an expanding middle class. It has  which includes several planned or completed . Indian movies, music, and spiritual teachings play an increasing role in global culture. India has substantially reduced its rate of poverty, though at the cost of increasing economic inequality. India is a , which ranks high in . It has disputes over  with its neighbours, Pakistan and China, unresolved since the mid-20th century. Among the socio-economic challenges India faces are , , and rising levels of . India's land is , with four . Its forest cover comprises 21.7% of its area. , which has traditionally been viewed with tolerance in , is supported among these forests, and elsewhere, in .\n",
      "\n"
     ]
    },
    {
     "data": {
      "text/plain": [
       "[<docx.text.paragraph.Paragraph at 0x1b10a9613a0>,\n",
       " <docx.text.paragraph.Paragraph at 0x1b108bc9f40>,\n",
       " <docx.text.paragraph.Paragraph at 0x1b108bc9e80>,\n",
       " <docx.text.paragraph.Paragraph at 0x1b108bc9070>,\n",
       " <docx.text.paragraph.Paragraph at 0x1b108c1e730>]"
      ]
     },
     "execution_count": 31,
     "metadata": {},
     "output_type": "execute_result"
    }
   ],
   "source": [
    "# Example Program\n",
    "from docx import Document\n",
    "doc = Document(\"c:\\\\Users\\\\Neelesh\\\\sample.docx\") # Path of the Docx file\n",
    "print(doc.paragraphs) # Prints the list of Paragraph objects for a Document\n",
    "for paragraph in doc.paragraphs:\n",
    "    print(paragraph.text) # Prints the text in the paragraph#### Answer:\n",
    "doc.paragraphs"
   ]
  },
  {
   "cell_type": "markdown",
   "metadata": {},
   "source": [
    "#### Question 8:\n",
    "What type of object has bold, underline, italic, strike, and outline variables?"
   ]
  },
  {
   "cell_type": "markdown",
   "metadata": {},
   "source": [
    "#### Answer:\n",
    "\"RUN\" object has bold, underline, italic, strike, and outline variables. The text in a Word document is more than just a string. It has font, size, color, and other styling information associated with it.\n",
    "\n",
    "A style in Word is a collection of these attributes. A Run object is a contiguous run of text with the same style. A new Run object is needed whenever the text style changes."
   ]
  },
  {
   "cell_type": "markdown",
   "metadata": {},
   "source": [
    "#### Question 9:\n",
    "What is the difference between False, True, and None for the bold variable?"
   ]
  },
  {
   "cell_type": "markdown",
   "metadata": {},
   "source": [
    "#### Answer:\n",
    "    -> True = bold is always enabled no matter what other styles are applied to the run,\n",
    "    -> False = bold is always disabled,\n",
    "    -> None = defaults to whatever the run's style set to"
   ]
  },
  {
   "cell_type": "markdown",
   "metadata": {},
   "source": [
    "#### Question 10:\n",
    "How do you create a Document object for a new Word document?"
   ]
  },
  {
   "cell_type": "code",
   "execution_count": 21,
   "metadata": {},
   "outputs": [],
   "source": [
    "# Example Program\n",
    "from docx import Document\n",
    "document = Document()\n",
    "document.add_paragraph(\"iNeuron Full Stack DataScience Course\")\n",
    "document.save('mydocument.docx')"
   ]
  },
  {
   "cell_type": "markdown",
   "metadata": {},
   "source": [
    "#### Question 11:\n",
    "How do you add a paragraph with the text 'Hello, there!' to a Document object stored in a variable named doc?"
   ]
  },
  {
   "cell_type": "markdown",
   "metadata": {},
   "source": [
    "#### Answer:\n",
    "doc.add_paragraph(\"Hello, there!\")"
   ]
  },
  {
   "cell_type": "code",
   "execution_count": 22,
   "metadata": {
    "scrolled": true
   },
   "outputs": [],
   "source": [
    "# Example Program\n",
    "from docx import Document\n",
    "doc = Document()\n",
    "doc.add_paragraph('Hello, there!')\n",
    "doc.save('hello.docx')"
   ]
  },
  {
   "cell_type": "markdown",
   "metadata": {},
   "source": [
    "#### Question 12:\n",
    "What integers represent the levels of headings available in Word documents?"
   ]
  },
  {
   "cell_type": "markdown",
   "metadata": {},
   "source": [
    "#### Answer\n",
    "The levels for a heading in a word document can be specified by using the level attribute inside the add_heading method. There are a total of 5 levels statring for 0 t0 4. where level 0 makes a headline with the horizontal line below the text, whereas the heading level 1 is the main heading. Similarly, the other headings are sub-heading with their's font-sizes in decreasing order."
   ]
  }
 ],
 "metadata": {
  "kernelspec": {
   "display_name": "Python 3 (ipykernel)",
   "language": "python",
   "name": "python3"
  },
  "language_info": {
   "codemirror_mode": {
    "name": "ipython",
    "version": 3
   },
   "file_extension": ".py",
   "mimetype": "text/x-python",
   "name": "python",
   "nbconvert_exporter": "python",
   "pygments_lexer": "ipython3",
   "version": "3.9.13"
  }
 },
 "nbformat": 4,
 "nbformat_minor": 4
}
