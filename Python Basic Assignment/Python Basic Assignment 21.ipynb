{
 "cells": [
  {
   "cell_type": "markdown",
   "id": "63dda309",
   "metadata": {},
   "source": [
    "# Python Basic Assignment 21"
   ]
  },
  {
   "cell_type": "markdown",
   "id": "494709de",
   "metadata": {},
   "source": [
    "#### Question 1:\n",
    "Add the current date to the text file today.txt as a string."
   ]
  },
  {
   "cell_type": "code",
   "execution_count": 1,
   "id": "a9fa5e98",
   "metadata": {},
   "outputs": [
    {
     "name": "stdout",
     "output_type": "stream",
     "text": [
      "2023-05-28\n"
     ]
    }
   ],
   "source": [
    "from datetime import date\n",
    "\n",
    "with open('today.txt', 'w') as txt:\n",
    "    txt.write(date.today().isoformat())\n",
    "print(date.today().isoformat())"
   ]
  },
  {
   "cell_type": "markdown",
   "id": "398f3477",
   "metadata": {},
   "source": [
    "#### Question 2: \n",
    "Read the text file today.txt into the string today_string"
   ]
  },
  {
   "cell_type": "code",
   "execution_count": 2,
   "id": "f7cfe178",
   "metadata": {},
   "outputs": [
    {
     "name": "stdout",
     "output_type": "stream",
     "text": [
      "Read text: 2023-05-28\n"
     ]
    }
   ],
   "source": [
    "today_string = \"\"\n",
    "with open('today.txt', 'r') as txt:\n",
    "    today_string = txt.readline()\n",
    "print(f\"Read text: {today_string}\")"
   ]
  },
  {
   "cell_type": "markdown",
   "id": "7665b979",
   "metadata": {},
   "source": [
    "#### Question 3: \n",
    "Parse the date from today_string."
   ]
  },
  {
   "cell_type": "code",
   "execution_count": 3,
   "id": "90e2eb3a",
   "metadata": {},
   "outputs": [
    {
     "name": "stdout",
     "output_type": "stream",
     "text": [
      "2023-05-28 00:00:00\n"
     ]
    }
   ],
   "source": [
    "from datetime import datetime\n",
    "print(datetime.strptime(today_string, '%Y-%m-%d'))"
   ]
  },
  {
   "cell_type": "markdown",
   "id": "015e0af0",
   "metadata": {},
   "source": [
    "#### Question 4:\n",
    "List the files in your current directory"
   ]
  },
  {
   "cell_type": "code",
   "execution_count": 4,
   "id": "b2e97111",
   "metadata": {},
   "outputs": [
    {
     "data": {
      "text/plain": [
       "['.ipynb_checkpoints',\n",
       " 'books.csv',\n",
       " 'books.db',\n",
       " 'example.csv',\n",
       " 'hello.docx',\n",
       " 'mydocument.docx',\n",
       " 'Python Basic Assignment 1.ipynb',\n",
       " 'Python Basic Assignment 10.ipynb',\n",
       " 'Python Basic Assignment 11.ipynb',\n",
       " 'Python Basic Assignment 12.ipynb',\n",
       " 'Python Basic Assignment 13.ipynb',\n",
       " 'Python Basic Assignment 14.ipynb',\n",
       " 'Python Basic Assignment 15.ipynb',\n",
       " 'Python Basic Assignment 16.ipynb',\n",
       " 'Python Basic Assignment 17.ipynb',\n",
       " 'Python Basic Assignment 18.ipynb',\n",
       " 'Python Basic Assignment 19.ipynb',\n",
       " 'Python Basic Assignment 2.ipynb',\n",
       " 'Python Basic Assignment 20.ipynb',\n",
       " 'Python Basic Assignment 21.ipynb',\n",
       " 'Python Basic Assignment 22.ipynb',\n",
       " 'Python Basic Assignment 23.ipynb',\n",
       " 'Python Basic Assignment 24.ipynb',\n",
       " 'Python Basic Assignment 25.ipynb',\n",
       " 'Python Basic Assignment 3.ipynb',\n",
       " 'Python Basic Assignment 4.ipynb',\n",
       " 'Python Basic Assignment 5.ipynb',\n",
       " 'Python Basic Assignment 6.ipynb',\n",
       " 'Python Basic Assignment 7.ipynb',\n",
       " 'Python Basic Assignment 8.ipynb',\n",
       " 'Python Basic Assignment 9.ipynb',\n",
       " 'test.txt',\n",
       " 'today.txt',\n",
       " 'zoo.py',\n",
       " '__pycache__']"
      ]
     },
     "execution_count": 4,
     "metadata": {},
     "output_type": "execute_result"
    }
   ],
   "source": [
    "import os\n",
    "os.listdir('.')"
   ]
  },
  {
   "cell_type": "markdown",
   "id": "3fbf5ccd",
   "metadata": {},
   "source": [
    "#### Question 5:\n",
    "Create a list of all of the files in your parent directory (minimum five files should be available)."
   ]
  },
  {
   "cell_type": "code",
   "execution_count": 5,
   "id": "837b2757",
   "metadata": {},
   "outputs": [],
   "source": [
    "import os"
   ]
  },
  {
   "cell_type": "code",
   "execution_count": 6,
   "id": "7620dc65-25a8-4e8b-b761-c8b949cc2da8",
   "metadata": {},
   "outputs": [
    {
     "name": "stdout",
     "output_type": "stream",
     "text": [
      "<class 'list'>\n",
      "['All Users', 'Default', 'Default User', 'desktop.ini', 'Neelesh', 'Public']\n",
      "Number of files: 6\n"
     ]
    }
   ],
   "source": [
    "lst_files = os.listdir('..\\..')\n",
    "print(type(lst_files))\n",
    "print(lst_files)\n",
    "print(f\"Number of files: {len(lst_files)}\")"
   ]
  },
  {
   "cell_type": "markdown",
   "id": "39250893",
   "metadata": {},
   "source": [
    "#### Question 6:\n",
    "Use multiprocessing to create three separate processes. Make each one wait a random number of seconds between one and five, print the current time, and then exit."
   ]
  },
  {
   "cell_type": "code",
   "execution_count": 7,
   "id": "cf15da76-d473-42cf-9dae-2b7081e6ea66",
   "metadata": {},
   "outputs": [
    {
     "name": "stdout",
     "output_type": "stream",
     "text": [
      "starting process 1...\n",
      "Process 1 will sleep for 4 seconds\n",
      "wait 4 seconds, time is 2023-05-28 09:01:18.719272\n",
      "Finished Process 1!\n",
      "--------------------------------------------------\n",
      "starting process 2...\n",
      "Process 2 will sleep for 3 seconds\n",
      "wait 3 seconds, time is 2023-05-28 09:01:23.016700\n",
      "Finished Process 2!\n",
      "--------------------------------------------------\n",
      "starting process 3...\n",
      "Process 3 will sleep for 4 seconds\n",
      "wait 4 seconds, time is 2023-05-28 09:01:26.185892\n",
      "Finished Process 3!\n",
      "--------------------------------------------------\n",
      "\n",
      "All Processes Finished!\n"
     ]
    }
   ],
   "source": [
    "import multiprocessing\n",
    "from datetime import datetime \n",
    "from time import sleep \n",
    "import random\n",
    "\n",
    "def now_sleep(seconds,p): \n",
    "    print('wait', seconds, 'seconds, time is', datetime.utcnow())\n",
    "    sleep(seconds) \n",
    "    print(f\"Finished Process {p+1}!\")\n",
    "\n",
    "if __name__ == '__main__':\n",
    "    for n in range(3): \n",
    "        print(f\"starting process {n+1}...\")\n",
    "        seconds = random.randint(1, 5) \n",
    "        print(f\"Process {n+1} will sleep for {seconds} seconds\")\n",
    "        proc = multiprocessing.Process(target=now_sleep(seconds,n))\n",
    "        print(\"-\"*50) \n",
    "        proc.start()\n",
    "        proc.join()\n",
    "    print(\"\\nAll Processes Finished!\")"
   ]
  },
  {
   "cell_type": "markdown",
   "id": "f84c6016",
   "metadata": {},
   "source": [
    "#### Question 7:\n",
    "Create a date object of your day of birth."
   ]
  },
  {
   "cell_type": "code",
   "execution_count": 8,
   "id": "924d082e",
   "metadata": {},
   "outputs": [
    {
     "name": "stdout",
     "output_type": "stream",
     "text": [
      "1999-10-31\n"
     ]
    }
   ],
   "source": [
    "from datetime import date\n",
    "my_birthday = date(1999,10, 31)\n",
    "print(my_birthday)"
   ]
  },
  {
   "cell_type": "markdown",
   "id": "b5729ded",
   "metadata": {},
   "source": [
    "#### Question 8:\n",
    "What day of the week was your day of birth?"
   ]
  },
  {
   "cell_type": "code",
   "execution_count": 9,
   "id": "9f68d44e",
   "metadata": {},
   "outputs": [
    {
     "name": "stdout",
     "output_type": "stream",
     "text": [
      "My birthday was on 7th day of the week\n"
     ]
    }
   ],
   "source": [
    "print(f\"My birthday was on {my_birthday.isoweekday()}th day of the week\")"
   ]
  },
  {
   "cell_type": "markdown",
   "id": "732e0da1",
   "metadata": {},
   "source": [
    "#### Question 9:\n",
    "When will you be (or when were you) 10,000 days old?"
   ]
  },
  {
   "cell_type": "code",
   "execution_count": 10,
   "id": "94d7d04c",
   "metadata": {},
   "outputs": [
    {
     "name": "stdout",
     "output_type": "stream",
     "text": [
      "2027-03-18\n"
     ]
    }
   ],
   "source": [
    "from datetime import timedelta\n",
    "\n",
    "thousand_days = my_birthday + timedelta(days=10000)\n",
    "print(thousand_days)"
   ]
  }
 ],
 "metadata": {
  "kernelspec": {
   "display_name": "Python 3 (ipykernel)",
   "language": "python",
   "name": "python3"
  },
  "language_info": {
   "codemirror_mode": {
    "name": "ipython",
    "version": 3
   },
   "file_extension": ".py",
   "mimetype": "text/x-python",
   "name": "python",
   "nbconvert_exporter": "python",
   "pygments_lexer": "ipython3",
   "version": "3.9.13"
  }
 },
 "nbformat": 4,
 "nbformat_minor": 5
}
