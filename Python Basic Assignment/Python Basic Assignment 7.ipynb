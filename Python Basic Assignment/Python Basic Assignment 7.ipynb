{
 "cells": [
  {
   "cell_type": "markdown",
   "metadata": {},
   "source": [
    "# Python Basic Assignment 7"
   ]
  },
  {
   "cell_type": "markdown",
   "metadata": {},
   "source": [
    "#### Question 1:\n",
    "What is the name of the feature responsible for generating Regex objects?"
   ]
  },
  {
   "cell_type": "markdown",
   "metadata": {},
   "source": [
    "#### Answer:\n",
    "re.compile()"
   ]
  },
  {
   "cell_type": "markdown",
   "metadata": {},
   "source": [
    "#### Question 2:\n",
    "Why do raw strings often appear in Regex objects?"
   ]
  },
  {
   "cell_type": "markdown",
   "metadata": {},
   "source": [
    "#### Answer:\n",
    "Raw string notation keeps regular expression meaningful and confusion free. \n",
    "Without it every backslash(' \\ ') in regular expression would have to be prefixed with another one to escape it."
   ]
  },
  {
   "cell_type": "markdown",
   "metadata": {},
   "source": [
    "#### Question 3:\n",
    "What is the return value of the search() method?"
   ]
  },
  {
   "cell_type": "markdown",
   "metadata": {},
   "source": [
    "#### Answer:\n",
    "It returns a match object if there is a match else returns none."
   ]
  },
  {
   "cell_type": "markdown",
   "metadata": {},
   "source": [
    "#### Question 4:\n",
    "From a Match item, how do you get the actual strings that match the pattern?"
   ]
  },
  {
   "cell_type": "markdown",
   "metadata": {},
   "source": [
    "#### Answer:\n",
    "group() method returns the actual string that match the pattern."
   ]
  },
  {
   "cell_type": "markdown",
   "metadata": {},
   "source": [
    "#### Question 5:\n",
    "In the regex which created from the r'(\\d\\d\\d)-(\\d\\d\\d-\\d\\d\\d\\d)', \n",
    "what does group zero cover?Group 2? Group 1?"
   ]
  },
  {
   "cell_type": "markdown",
   "metadata": {},
   "source": [
    "#### Answer:\n",
    "    -> group 0 covers (\\d\\d\\d)-(\\d\\d\\d-\\d\\d\\d\\d)\n",
    "    -> group 1 covers (\\d\\d\\d)\n",
    "    -> group 2 covers (\\d\\d\\d-\\d\\d\\d\\d)"
   ]
  },
  {
   "cell_type": "markdown",
   "metadata": {},
   "source": [
    "#### Question 6:\n",
    " In standard expression syntax, parentheses and intervals have distinct meanings. \n",
    "How can you tell a regex that you want it to fit real parentheses and periods?"
   ]
  },
  {
   "cell_type": "markdown",
   "metadata": {},
   "source": [
    "#### Answer:\n",
    "To match a literal left parenthesis, use (.\n",
    "To match a literal right parenthesis, use ).\n",
    "eg: the regular expression (\\d+) would match any sequence of digits surrounded by parentheses, such as (123).\n",
    "To match a literal period (i.e., a dot), use .. For example, the regular expression Mr. Smith would match the string Mr. Smith but not Mr Smith.\n",
    "Note that you can also use the raw string notation (r'') in Python to avoid having to escape backslashes twice. "
   ]
  },
  {
   "cell_type": "code",
   "execution_count": 1,
   "metadata": {},
   "outputs": [],
   "source": [
    "# \\.,  \\(,  \\)"
   ]
  },
  {
   "cell_type": "code",
   "execution_count": 2,
   "metadata": {},
   "outputs": [
    {
     "name": "stdout",
     "output_type": "stream",
     "text": [
      "['(123)']\n",
      "['Mr. Smith']\n"
     ]
    }
   ],
   "source": [
    "import re\n",
    "\n",
    "# Match a sequence of digits surrounded by parentheses\n",
    "pattern = r'\\(\\d+\\)'\n",
    "\n",
    "# Match a literal period followed by a space and a name\n",
    "pattern2 = r'Mr\\. Smith'\n",
    "\n",
    "# Search for matches in a string\n",
    "text = 'Hello (123) world. Mr. Smith is here.'\n",
    "matches = re.findall(pattern, text)\n",
    "matches2 = re.findall(pattern2, text)\n",
    "\n",
    "print(matches)    # Output: ['(123)']\n",
    "print(matches2)   # Output: ['Mr. Smith']"
   ]
  },
  {
   "cell_type": "markdown",
   "metadata": {},
   "source": [
    "#### Question 7:\n",
    "The findall() method returns a string list or a list of string tuples. \n",
    "What causes it to return one of the two options?"
   ]
  },
  {
   "cell_type": "markdown",
   "metadata": {},
   "source": [
    "#### Answer:\n",
    "If the regular expression contains no capturing groups (i.e., no parentheses), then findall() returns a list of strings, where each string is a match found in the input string.\n",
    "\n",
    "If the regular expression contains one or more capturing groups (i.e., one or more sets of parentheses), then findall() returns a list of tuples, where each tuple represents a match found in the input string, and each element of the tuple corresponds to a capturing group in the regular expression."
   ]
  },
  {
   "cell_type": "code",
   "execution_count": 3,
   "metadata": {},
   "outputs": [
    {
     "name": "stdout",
     "output_type": "stream",
     "text": [
      "['The', 'quick', 'brown', 'fox', 'jumps', 'over', 'the', 'lazy', 'dog']\n",
      "[]\n",
      "['over']\n"
     ]
    }
   ],
   "source": [
    "import re\n",
    "\n",
    "text = 'The quick brown fox jumps over the lazy dog'\n",
    "\n",
    "# Find all words in the text\n",
    "words = re.findall(r'\\w+', text)\n",
    "print(words)\n",
    "\n",
    "# Find all words that start with 'q' and end with 'x'\n",
    "matches = re.findall(r'\\bq\\w*x\\b', text)\n",
    "print(matches)\n",
    "\n",
    "# Find all words that start with a vowel and end with a consonant\n",
    "matches2 = re.findall(r'\\b([aeiou]\\w*[bcdfghjklmnpqrstvwxyz])\\b', text)\n",
    "print(matches2)"
   ]
  },
  {
   "cell_type": "code",
   "execution_count": 4,
   "metadata": {},
   "outputs": [
    {
     "name": "stdout",
     "output_type": "stream",
     "text": [
      "[('o', 've', 'r')]\n"
     ]
    }
   ],
   "source": [
    "import re\n",
    "\n",
    "text = 'The quick brown fox jumps over the lazy dog'\n",
    "\n",
    "# Find all words that start with a vowel and end with a consonant, and capture the first and last letter\n",
    "matches = re.findall(r'\\b([aeiou])(\\w*)([bcdfghjklmnpqrstvwxyz])\\b', text)\n",
    "print(matches)"
   ]
  },
  {
   "cell_type": "markdown",
   "metadata": {},
   "source": [
    "#### Question 8:\n",
    "In standard expressions, what does the | character mean?"
   ]
  },
  {
   "cell_type": "markdown",
   "metadata": {},
   "source": [
    "#### Answer:\n",
    "It means either or"
   ]
  },
  {
   "cell_type": "code",
   "execution_count": 5,
   "metadata": {},
   "outputs": [
    {
     "name": "stdout",
     "output_type": "stream",
     "text": [
      "['dog']\n"
     ]
    }
   ],
   "source": [
    "import re\n",
    "\n",
    "text = 'The quick brown fox jumps over the lazy dog'\n",
    "\n",
    "# Find all occurrences of \"cat\" or \"dog\"\n",
    "matches = re.findall(r'cat|dog', text)\n",
    "print(matches)"
   ]
  },
  {
   "cell_type": "markdown",
   "metadata": {},
   "source": [
    "#### Question 9:\n",
    "In regular expressions, what does the character stand for '?'"
   ]
  },
  {
   "cell_type": "markdown",
   "metadata": {},
   "source": [
    "#### Answer:\n",
    "In regular expressions, the ? character is used to specify zero or one occurrence of the preceding character or group. \n",
    "It makes the preceding character or group optional.\n",
    "eg: the pattern colou?r would match either \"color\" or \"colour\", because the ? makes the u optional."
   ]
  },
  {
   "cell_type": "code",
   "execution_count": 6,
   "metadata": {},
   "outputs": [
    {
     "name": "stdout",
     "output_type": "stream",
     "text": [
      "['color', 'colour']\n"
     ]
    }
   ],
   "source": [
    "import re\n",
    "\n",
    "text = 'The color of the sky is blue. The colour of the ocean is green.'\n",
    "\n",
    "# Find all occurrences of \"color\" or \"colour\"\n",
    "matches = re.findall(r'colou?r', text)\n",
    "print(matches)"
   ]
  },
  {
   "cell_type": "markdown",
   "metadata": {},
   "source": [
    "#### Question 10:\n",
    "In regular expressions, what is the difference between the + and * characters?"
   ]
  },
  {
   "cell_type": "markdown",
   "metadata": {},
   "source": [
    "' + ' refers one or more occurences\n",
    "\n",
    "' * ' refers zero or more occurences.\n",
    "\n",
    "In regular expressions, the + and * characters are used to specify the number of occurrences of the preceding character or group.\n",
    "\n",
    "The * character specifies zero or more occurrences of the preceding character or group. \n",
    "For example, the pattern ab*c would match \"ac\", \"abc\", \"abbc\", \"abbbc\", and so on.\n",
    "\n",
    "The + character, on the other hand, specifies one or more occurrences of the preceding character or group. \n",
    "For example, the pattern ab+c would match \"abc\", \"abbc\", \"abbbc\", and so on, but would not match \"ac\"."
   ]
  },
  {
   "cell_type": "code",
   "execution_count": 7,
   "metadata": {},
   "outputs": [
    {
     "name": "stdout",
     "output_type": "stream",
     "text": [
      "['abbc', 'abc', 'abbbbc', 'ac']\n",
      "['abbc', 'abc', 'abbbbc']\n"
     ]
    }
   ],
   "source": [
    "import re\n",
    "\n",
    "text = 'abbc abc abbbbc ac'\n",
    "\n",
    "# Find all occurrences of \"ab*c\"\n",
    "matches = re.findall(r'ab*c', text)\n",
    "print(matches)\n",
    "\n",
    "# Find all occurrences of \"ab+c\"\n",
    "matches = re.findall(r'ab+c', text)\n",
    "print(matches)"
   ]
  },
  {
   "cell_type": "markdown",
   "metadata": {},
   "source": [
    "#### Question 11:\n",
    "What is the difference between {4} and {4,5} in regular expression?"
   ]
  },
  {
   "cell_type": "markdown",
   "metadata": {},
   "source": [
    "#### Answer:\n",
    "{4} means preceding character is to be repeated 4 times.\n",
    "{4,5} means preceding character is repeated minimum 4 times and maximum 5 times."
   ]
  },
  {
   "cell_type": "markdown",
   "metadata": {},
   "source": [
    "#### Question 12:\n",
    "What do you mean by the \\d, \\w, and \\s shorthand character classes signify in regular expressions?"
   ]
  },
  {
   "cell_type": "markdown",
   "metadata": {},
   "source": [
    "Answer:\n",
    "\\d returns a match where string contains digit(number from 0-9)\n",
    "\\w returns a match where string contains any word character(character from a to Z, digit from 0 to 9 and underscore character)\n",
    "\\s returns a match where string contains a whitespace character."
   ]
  },
  {
   "cell_type": "markdown",
   "metadata": {},
   "source": [
    "#### Question 13:\n",
    "What is the difference between .? and .?"
   ]
  },
  {
   "cell_type": "markdown",
   "metadata": {},
   "source": [
    "#### Answer:\n",
    "' . ' accepts as many sequence as available(Greedy approach)\n",
    "' .? ' accepts the first matched sequence and then stops(Non-Greedy approach)."
   ]
  },
  {
   "cell_type": "markdown",
   "metadata": {},
   "source": [
    "#### Question 14:\n",
    "What do means by \\D, \\W, and \\S shorthand character classes signify in regular expressions?    "
   ]
  },
  {
   "cell_type": "markdown",
   "metadata": {},
   "source": [
    "#### Answer:\n",
    "\\D, \\W and \\S are special sequences in regular expresssions in python:\n",
    "\n",
    "\\W – Matches any non-alphanumeric character equivalent to [^a-zA-Z0-9_]\n",
    "\\D – Matches any non-digit character, this is equivalent to the set class [^0-9]\n",
    "\\S – Matches any non-whitespace character"
   ]
  },
  {
   "cell_type": "markdown",
   "metadata": {},
   "source": [
    "#### Question 15:\n",
    "What is the syntax for matching both numbers and lowercase letters with a character class?"
   ]
  },
  {
   "cell_type": "markdown",
   "metadata": {},
   "source": [
    "#### Answer:\n",
    "[a-z0-9]"
   ]
  },
  {
   "cell_type": "markdown",
   "metadata": {},
   "source": [
    "#### Question 16:\n",
    "What is the procedure for making a normal expression in regax case insensitive?"
   ]
  },
  {
   "cell_type": "markdown",
   "metadata": {},
   "source": [
    "#### Answer:\n",
    "pass re.IGNORECASE to re.compile()"
   ]
  },
  {
   "cell_type": "markdown",
   "metadata": {},
   "source": [
    "#### Question 17:\n",
    "What does the . character normally match? What does it match if re.DOTALL is passed as 2nd argument in re.compile()?"
   ]
  },
  {
   "cell_type": "markdown",
   "metadata": {},
   "source": [
    "#### Answer:\n",
    "' . ' character normally pass any character except newline character. \n",
    "With the help of DOTALL, ' . ' character can match any character including newline."
   ]
  },
  {
   "cell_type": "markdown",
   "metadata": {},
   "source": [
    "#### Question 18:\n",
    "If numReg = re.compile(r'\\d+'), what will numReg.sub('X', '11 drummers, 10 pipers, five rings, 4 hen') return?"
   ]
  },
  {
   "cell_type": "markdown",
   "metadata": {},
   "source": [
    "#### Answer:\n",
    "'X drummers, X pipers, five rings, X hen'"
   ]
  },
  {
   "cell_type": "markdown",
   "metadata": {},
   "source": [
    "#### Question 19:\n",
    "What does passing re.VERBOSE as the 2nd argument to re.compile() allow to do?"
   ]
  },
  {
   "cell_type": "markdown",
   "metadata": {},
   "source": [
    "#### Answer:\n",
    "It allows to write regular expressin that look nicer and are more readable by allowing visually separate logical section\n",
    "of the pattern and add comments."
   ]
  },
  {
   "cell_type": "markdown",
   "metadata": {},
   "source": [
    "#### Question 20:\n",
    "How would you write a regex that match a number with comma for every three digits? It must match the given following:"
   ]
  },
  {
   "cell_type": "markdown",
   "metadata": {},
   "source": [
    "#### Answer:\n",
    "'42' '1,234' '6,368,745'\n",
    "\n",
    "but not the following: '12,34,567' (which has only two digits between the commas) '1234' (which lacks commas)"
   ]
  },
  {
   "cell_type": "code",
   "execution_count": 8,
   "metadata": {},
   "outputs": [
    {
     "name": "stdout",
     "output_type": "stream",
     "text": [
      "42 matches\n",
      "1,234 matches\n",
      "6,368,745 matches\n",
      "12,34,567 does not match\n",
      "1234 does not match\n"
     ]
    }
   ],
   "source": [
    "import re\n",
    "\n",
    "strings = ['42', '1,234', '6,368,745', '12,34,567', '1234']\n",
    "\n",
    "pattern = r'^\\d{1,3}(,\\d{3})*$'\n",
    "\n",
    "for s in strings:\n",
    "    if re.match(pattern, s):\n",
    "        print(s, 'matches')\n",
    "    else:\n",
    "        print(s, 'does not match')"
   ]
  },
  {
   "cell_type": "markdown",
   "metadata": {},
   "source": [
    "#### Question 21:\n",
    "How would you write a regex that matches the full name of someone whose last name is Watanabe? \n",
    "You can assume that the first name that comes before it will always be one word that begins with a capital letter."
   ]
  },
  {
   "cell_type": "markdown",
   "metadata": {},
   "source": [
    "#### Answer:\n",
    "The regex must match the following:\n",
    "'Haruto Watanabe'\n",
    "'Alice Watanabe'\n",
    "'RoboCop Watanabe'\n",
    "\n",
    "but not the following:\n",
    "'haruto Watanabe' (where the first name is not capitalized)\n",
    "'Mr. Watanabe' (where the preceding word has a nonletter character)\n",
    "'Watanabe' (which has no first name)\n",
    "'Haruto watanabe' (where Watanabe is not capitalized)"
   ]
  },
  {
   "cell_type": "code",
   "execution_count": 9,
   "metadata": {},
   "outputs": [
    {
     "name": "stdout",
     "output_type": "stream",
     "text": [
      "Haruto Watanabe matches\n",
      "Alice Watanabe matches\n",
      "RoboCop Watanabe does not match\n",
      "haruto Watanabe does not match\n",
      "Mr. Watanabe does not match\n",
      "Watanabe does not match\n",
      "Haruto watanabe does not match\n"
     ]
    }
   ],
   "source": [
    "import re\n",
    "\n",
    "strings = ['Haruto Watanabe', 'Alice Watanabe', 'RoboCop Watanabe', 'haruto Watanabe', 'Mr. Watanabe', 'Watanabe', 'Haruto watanabe']\n",
    "\n",
    "pattern = r'^[A-Z][a-z]*\\sWatanabe$'\n",
    "\n",
    "for s in strings:\n",
    "    if re.match(pattern, s):\n",
    "        print(s, 'matches')\n",
    "    else:\n",
    "        print(s, 'does not match')"
   ]
  },
  {
   "cell_type": "markdown",
   "metadata": {},
   "source": [
    "#### Question 22:\n",
    "How would you write a regex that matches a sentence where the first word is either Alice, Bob, or Carol; \n",
    "the second word is either eats, pets, or throws; the third word is apples, cats, or baseballs; \n",
    "and the sentence ends with a period? This regex should be case-insensitive."
   ]
  },
  {
   "cell_type": "markdown",
   "metadata": {},
   "source": [
    "#### Answer:\n",
    "It must match the following:\n",
    "'Alice eats apples.'\n",
    "'Bob pets cats.'\n",
    "'Carol throws baseballs.'\n",
    "'Alice throws Apples.'\n",
    "'BOB EATS CATS.'\n",
    "\n",
    "but not the following:\n",
    "'RoboCop eats apples.'\n",
    "'ALICE THROWS FOOTBALLS.'\n",
    "'Carol eats 7 cats.'"
   ]
  },
  {
   "cell_type": "code",
   "execution_count": 10,
   "metadata": {},
   "outputs": [
    {
     "name": "stdout",
     "output_type": "stream",
     "text": [
      "'Alice eats apples.' matches\n",
      "'Bob pets cats.' matches\n",
      "'Carol throws baseballs.' matches\n",
      "'Alice throws Apples.' matches\n",
      "'BOB EATS CATS.' matches\n",
      "'RoboCop eats apples.' does not match\n",
      "'ALICE THROWS FOOTBALLS.' does not match\n",
      "'Carol eats 7 cats.' does not match\n"
     ]
    }
   ],
   "source": [
    "import re\n",
    "\n",
    "strings = ['Alice eats apples.', 'Bob pets cats.', 'Carol throws baseballs.', 'Alice throws Apples.', 'BOB EATS CATS.', 'RoboCop eats apples.', 'ALICE THROWS FOOTBALLS.', 'Carol eats 7 cats.']\n",
    "\n",
    "pattern = r'^(Alice|Bob|Carol)\\s+(eats|pets|throws)\\s+(apples|cats|baseballs)\\.\\s*$'\n",
    "\n",
    "for s in strings:\n",
    "    if re.match(pattern, s, re.IGNORECASE):\n",
    "        print(repr(s), 'matches')\n",
    "    else:\n",
    "        print(repr(s), 'does not match')"
   ]
  }
 ],
 "metadata": {
  "kernelspec": {
   "display_name": "Python 3 (ipykernel)",
   "language": "python",
   "name": "python3"
  },
  "language_info": {
   "codemirror_mode": {
    "name": "ipython",
    "version": 3
   },
   "file_extension": ".py",
   "mimetype": "text/x-python",
   "name": "python",
   "nbconvert_exporter": "python",
   "pygments_lexer": "ipython3",
   "version": "3.9.13"
  }
 },
 "nbformat": 4,
 "nbformat_minor": 4
}
