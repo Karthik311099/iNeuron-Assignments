{
 "cells": [
  {
   "cell_type": "markdown",
   "id": "4ac9602a",
   "metadata": {},
   "source": [
    "# Python Programming Assignment-5"
   ]
  },
  {
   "cell_type": "markdown",
   "id": "fdaeee06",
   "metadata": {},
   "source": [
    "#### Question 1. \n",
    "Write a Python Program to Find LCM?"
   ]
  },
  {
   "cell_type": "code",
   "execution_count": 1,
   "id": "a3ad3279-beea-486e-8d7a-7e86ccbd69d1",
   "metadata": {},
   "outputs": [
    {
     "ename": "SyntaxError",
     "evalue": "invalid syntax (3320757721.py, line 1)",
     "output_type": "error",
     "traceback": [
      "\u001b[1;36m  File \u001b[1;32m\"C:\\Users\\Neelesh\\AppData\\Local\\Temp\\ipykernel_5424\\3320757721.py\"\u001b[1;36m, line \u001b[1;32m1\u001b[0m\n\u001b[1;33m    eg: the LCM of 6 and 10 is 30. The multiples of 6 are 6, 12, 18, 24, 30, 36, 42, 48,\u001b[0m\n\u001b[1;37m            ^\u001b[0m\n\u001b[1;31mSyntaxError\u001b[0m\u001b[1;31m:\u001b[0m invalid syntax\n"
     ]
    }
   ],
   "source": [
    "eg: the LCM of 6 and 10 is 30. The multiples of 6 are 6, 12, 18, 24, 30, 36, 42, 48, \n",
    "and so on, while the multiples of 10 are 10, 20, 30, 40, and so on. \n",
    "The smallest positive integer that is a multiple of both 6 and 10 is 30, which is the LCM of 6 and 10."
   ]
  },
  {
   "cell_type": "code",
   "execution_count": 7,
   "id": "2bbfde05",
   "metadata": {},
   "outputs": [],
   "source": [
    "def lcm(a,b):\n",
    "    high = a if a > b else b\n",
    "    \n",
    "    while True:\n",
    "        if (high%a==0) and (high%b==0):\n",
    "            break\n",
    "        else:\n",
    "            high += 1\n",
    "            \n",
    "    return high"
   ]
  },
  {
   "cell_type": "code",
   "execution_count": 9,
   "id": "b1491e95",
   "metadata": {},
   "outputs": [
    {
     "data": {
      "text/plain": [
       "1550"
      ]
     },
     "execution_count": 9,
     "metadata": {},
     "output_type": "execute_result"
    }
   ],
   "source": [
    "a = 50\n",
    "b = 62\n",
    "\n",
    "lcm(a, b)"
   ]
  },
  {
   "cell_type": "markdown",
   "id": "2f459cdf",
   "metadata": {},
   "source": [
    "#### Question 2. \n",
    "Write a Python Program to Find HCF?"
   ]
  },
  {
   "cell_type": "code",
   "execution_count": null,
   "id": "efbb6c5a-37e1-4f1d-90f9-11220fb74ba3",
   "metadata": {},
   "outputs": [],
   "source": [
    "Answer:\n",
    "    -> HCF stands for Highest Common Factor, also known as Greatest Common Divisor (GCD)\n",
    "\n",
    "    -> For example, the HCF of 12 and 18 is 6 because the factors of 12 are 1, 2, 3, 4, 6, and 12, \n",
    "    and the factors of 18 are 1, 2, 3, 6, 9, and 18. The largest factor that is common to both 12 and 18 is 6."
   ]
  },
  {
   "cell_type": "code",
   "execution_count": 11,
   "id": "ca13cf0c",
   "metadata": {},
   "outputs": [],
   "source": [
    "def hcf(a, b):\n",
    "    \n",
    "    low = a if a < b else b\n",
    "    \n",
    "    for i in range(1, low+1):\n",
    "        if (a%i==0) and (b%i==0):\n",
    "            hcf = i\n",
    "            \n",
    "    return hcf"
   ]
  },
  {
   "cell_type": "code",
   "execution_count": 13,
   "id": "3e41d1af",
   "metadata": {},
   "outputs": [
    {
     "data": {
      "text/plain": [
       "6"
      ]
     },
     "execution_count": 13,
     "metadata": {},
     "output_type": "execute_result"
    }
   ],
   "source": [
    "a = 12\n",
    "b = 18\n",
    "\n",
    "hcf(a, b)"
   ]
  },
  {
   "cell_type": "code",
   "execution_count": 14,
   "id": "642b8fdc",
   "metadata": {},
   "outputs": [
    {
     "data": {
      "text/plain": [
       "5"
      ]
     },
     "execution_count": 14,
     "metadata": {},
     "output_type": "execute_result"
    }
   ],
   "source": [
    "a = 55\n",
    "b = 5\n",
    "\n",
    "hcf(a, b)"
   ]
  },
  {
   "cell_type": "markdown",
   "id": "d2c29370",
   "metadata": {},
   "source": [
    "#### Question 3. \n",
    "Write a Python Program to Convert Decimal to Binary, Octal and Hexadecimal?"
   ]
  },
  {
   "cell_type": "code",
   "execution_count": 15,
   "id": "f9fac93a",
   "metadata": {},
   "outputs": [],
   "source": [
    "def conversion(num):\n",
    "    print(f\"Binary({num})     : \", bin(num))\n",
    "    print(f\"Octal({num})      : \", oct(num))\n",
    "    print(f\"Hexadecimal({num}): \", hex(num))"
   ]
  },
  {
   "cell_type": "code",
   "execution_count": 17,
   "id": "f3dd6f8d",
   "metadata": {},
   "outputs": [
    {
     "name": "stdout",
     "output_type": "stream",
     "text": [
      "Binary(8)     :  0b1000\n",
      "Octal(8)      :  0o10\n",
      "Hexadecimal(8):  0x8\n"
     ]
    }
   ],
   "source": [
    "conversion(8)"
   ]
  },
  {
   "cell_type": "code",
   "execution_count": 18,
   "id": "724c2e07",
   "metadata": {},
   "outputs": [
    {
     "name": "stdout",
     "output_type": "stream",
     "text": [
      "Binary(520)     :  0b1000001000\n",
      "Octal(520)      :  0o1010\n",
      "Hexadecimal(520):  0x208\n"
     ]
    }
   ],
   "source": [
    "conversion(520)"
   ]
  },
  {
   "cell_type": "markdown",
   "id": "2a16c5fd",
   "metadata": {},
   "source": [
    "#### Question 4.\n",
    "Write a Python Program To Find ASCII value of a character?"
   ]
  },
  {
   "cell_type": "code",
   "execution_count": 19,
   "id": "c5164be3",
   "metadata": {},
   "outputs": [
    {
     "name": "stdout",
     "output_type": "stream",
     "text": [
      "Enter a character: k\n",
      "ASCII value of k is 107\n"
     ]
    }
   ],
   "source": [
    "try:\n",
    "    char = input(\"Enter a character: \")\n",
    "    ASCII = ord(char)\n",
    "    print(\"ASCII value of {} is {}\".format(char, ASCII))\n",
    "except Exception as e:\n",
    "    print(e)"
   ]
  },
  {
   "cell_type": "markdown",
   "id": "226778a0",
   "metadata": {},
   "source": [
    "#### Question 5. Write a Python Program to Make a Simple Calculator with 4 basic mathematical operations?"
   ]
  },
  {
   "cell_type": "code",
   "execution_count": 20,
   "id": "4d0c1a4d",
   "metadata": {},
   "outputs": [
    {
     "name": "stdout",
     "output_type": "stream",
     "text": [
      "Enter first number: 2\n",
      "Enter second number: 50\n",
      "\n",
      "For addition:       +\n",
      "For subtraction:    -\n",
      "For multiplicaton:  *\n",
      "For division:       /\n",
      "For Exit:            X\n",
      "\n",
      "Enter the choice for mathematical operations: +\n",
      "\n",
      "Result:  52\n",
      "Enter first number: 25\n",
      "Enter second number: 14\n",
      "\n",
      "For addition:       +\n",
      "For subtraction:    -\n",
      "For multiplicaton:  *\n",
      "For division:       /\n",
      "For Exit:            X\n",
      "\n",
      "Enter the choice for mathematical operations: /\n",
      "\n",
      "Result:  1.7857142857142858\n",
      "Enter first number: 45\n",
      "Enter second number: 86\n",
      "\n",
      "For addition:       +\n",
      "For subtraction:    -\n",
      "For multiplicaton:  *\n",
      "For division:       /\n",
      "For Exit:            X\n",
      "\n",
      "Enter the choice for mathematical operations: -\n",
      "\n",
      "Result:  -41\n",
      "Enter first number: 45\n",
      "Enter second number: 63\n",
      "\n",
      "For addition:       +\n",
      "For subtraction:    -\n",
      "For multiplicaton:  *\n",
      "For division:       /\n",
      "For Exit:            X\n",
      "\n",
      "Enter the choice for mathematical operations: *\n",
      "\n",
      "Result:  2835\n",
      "Enter first number: 45\n",
      "Enter second number: 63\n",
      "\n",
      "For addition:       +\n",
      "For subtraction:    -\n",
      "For multiplicaton:  *\n",
      "For division:       /\n",
      "For Exit:            X\n",
      "\n",
      "Enter the choice for mathematical operations: -\n",
      "\n",
      "Result:  -18\n",
      "Enter first number: x\n",
      "invalid literal for int() with base 10: 'x'\n"
     ]
    }
   ],
   "source": [
    "try:\n",
    "    \n",
    "    while True:\n",
    "        num1 = int(input(\"Enter first number: \"))\n",
    "        num2 = int(input(\"Enter second number: \"))\n",
    "        \n",
    "        print(\"\\nFor addition:       +\")\n",
    "        print(\"For subtraction:    -\")\n",
    "        print(\"For multiplicaton:  *\")\n",
    "        print(\"For division:       /\")\n",
    "        print(\"For Exit:            X\")\n",
    "        \n",
    "        ch = input(\"\\nEnter the choice for mathematical operations: \")\n",
    "        \n",
    "        \n",
    "        if ch == '+':\n",
    "            output = num1 + num2\n",
    "        elif ch == '-':\n",
    "            output = num1 - num2\n",
    "        elif ch == '*':\n",
    "            output = num1 * num2\n",
    "        elif ch == '/':\n",
    "            output = num1 / num2\n",
    "        \n",
    "        if ch == 'X' or ch == 'x':\n",
    "            break\n",
    "            \n",
    "        print(\"\\nResult: \", output)\n",
    "        \n",
    "        \n",
    "            \n",
    "except Exception as e:\n",
    "    print(e)"
   ]
  }
 ],
 "metadata": {
  "kernelspec": {
   "display_name": "Python 3 (ipykernel)",
   "language": "python",
   "name": "python3"
  },
  "language_info": {
   "codemirror_mode": {
    "name": "ipython",
    "version": 3
   },
   "file_extension": ".py",
   "mimetype": "text/x-python",
   "name": "python",
   "nbconvert_exporter": "python",
   "pygments_lexer": "ipython3",
   "version": "3.9.13"
  }
 },
 "nbformat": 4,
 "nbformat_minor": 5
}
