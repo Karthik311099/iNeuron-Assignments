{
 "cells": [
  {
   "cell_type": "markdown",
   "id": "7df6e6a0",
   "metadata": {},
   "source": [
    "# Python Programming Assignment-15"
   ]
  },
  {
   "cell_type": "markdown",
   "id": "de299c62",
   "metadata": {},
   "source": [
    "#### Question 1. \n",
    "Please write a program using generator to print the numbers which can be divisible by 5 and 7 between 0 and n\n",
    "in comma separated form while n is input by console."
   ]
  },
  {
   "cell_type": "code",
   "execution_count": 1,
   "id": "b34edaf4",
   "metadata": {},
   "outputs": [
    {
     "name": "stdout",
     "output_type": "stream",
     "text": [
      "Enter the value of n: 100\n",
      "7,14,21,28,42,49,56,63,77,84,91,98\n"
     ]
    }
   ],
   "source": [
    "def divisible_by_five_seven_generator(n):\n",
    "        for num in range(n + 1):\n",
    "            if num % 5 and num % 7 == 0:\n",
    "                yield str(num)\n",
    "\n",
    "\n",
    "n= int(input(\"Enter the value of n: \"))#given n=100 as input\n",
    "# Iterating  over the numbers divisible by 5 and 7 using the generator\n",
    "result = [num for num in divisible_by_five_seven_generator(n)]#cerete a list of numbers divisible by 5 and 7 using the generator\n",
    "csv_text = \",\".join(result)\n",
    "\n",
    "print(csv_text)"
   ]
  },
  {
   "cell_type": "markdown",
   "id": "c04aab80",
   "metadata": {},
   "source": [
    "#### Question 2.\n",
    "Please write a program using generator to print the even numbers between 0 and n\n",
    "in comma separated form while n is input by console."
   ]
  },
  {
   "cell_type": "code",
   "execution_count": 2,
   "id": "d6733e1e",
   "metadata": {},
   "outputs": [
    {
     "name": "stdout",
     "output_type": "stream",
     "text": [
      "Enter a number: 40\n",
      "0,2,4,6,8,10,12,14,16,18,20,22,24,26,28,30,32,34,36,38,40\n"
     ]
    }
   ],
   "source": [
    "def even_numbers_gen(n):\n",
    "    for num in range(n + 1):\n",
    "        if num % 2 == 0:\n",
    "            yield str(num)\n",
    "\n",
    "n = int(input(\"Enter a number: \"))#given n=30 as input\n",
    "even_numbers = even_numbers_gen(n)\n",
    "csv_text = \",\".join(even_numbers)\n",
    "print(csv_text)"
   ]
  },
  {
   "cell_type": "markdown",
   "id": "35b72559",
   "metadata": {},
   "source": [
    "#### Question 3. \n",
    "Please write a program using list comprehension to print the Fibonacci Sequence in comma\n",
    "separated form with a given n input by console."
   ]
  },
  {
   "cell_type": "code",
   "execution_count": 3,
   "id": "133d6fe0",
   "metadata": {},
   "outputs": [
    {
     "name": "stdout",
     "output_type": "stream",
     "text": [
      "Enter a number: 50\n",
      "0,1,1,2,3,5,8,13,21,34\n"
     ]
    }
   ],
   "source": [
    "def fibonacci_sequence(n):\n",
    "    sequence = [0, 1] if n > 0 else []\n",
    "\n",
    "    while sequence[-1] + sequence[-2] <= n:\n",
    "        sequence.append(sequence[-1] + sequence[-2])\n",
    "\n",
    "    return sequence\n",
    "\n",
    "n = int(input(\"Enter a number: \"))#user input n=50\n",
    "fib_sequence = [num for num in fibonacci_sequence(n)]\n",
    "csv_text= ','.join(str(num) for num in fib_sequence)\n",
    "print(csv_text)         "
   ]
  },
  {
   "cell_type": "markdown",
   "id": "dea0be0f",
   "metadata": {},
   "source": [
    "#### Question 4. \n",
    "Assuming that we have some email addresses in the \"username@companyname.com\" format, \n",
    "please write program to print the user name of a given email address.\n",
    "Both user names and company names are composed of letters only."
   ]
  },
  {
   "cell_type": "code",
   "execution_count": 4,
   "id": "b1fa5aa4",
   "metadata": {},
   "outputs": [
    {
     "name": "stdout",
     "output_type": "stream",
     "text": [
      "Enter your email address: karthikm3110@hotmail.com\n",
      "username : \"karthikm3110\"\n"
     ]
    }
   ],
   "source": [
    "def username(email: str):\n",
    "    return email.split('@')[0]\n",
    "\n",
    "email = input(\"Enter your email address: \")\n",
    "user = username(email)\n",
    "print(f'username : \"{user}\"')"
   ]
  },
  {
   "cell_type": "code",
   "execution_count": 8,
   "id": "27ed8d0c",
   "metadata": {},
   "outputs": [
    {
     "name": "stdout",
     "output_type": "stream",
     "text": [
      "username : \"poco\"\n"
     ]
    }
   ],
   "source": [
    "#test case 2\n",
    "user = username('poco@ineuron.com')\n",
    "print(f'username : \"{user}\"')"
   ]
  },
  {
   "cell_type": "code",
   "execution_count": 9,
   "id": "0ebbc150",
   "metadata": {},
   "outputs": [
    {
     "name": "stdout",
     "output_type": "stream",
     "text": [
      "['ponni', 'don', 'flower', 'love']\n"
     ]
    }
   ],
   "source": [
    "#test case 3 : a list of email addresses\n",
    "mail_list = ['ponni@ineuron.com', 'don@ineuron.com', 'flower@ineuron.com','love@xyz.com']\n",
    "usernames = [username(email) for email in mail_list]\n",
    "print(usernames)"
   ]
  },
  {
   "cell_type": "markdown",
   "id": "2834c88f",
   "metadata": {},
   "source": [
    "#### Question 5. \n",
    "Define a class named Shape and its subclass Square. \n",
    "The Square class has an init function which takes a length as argument. \n",
    "Both classes have a area function which can print the area of the shape where Shape's area is 0 by default."
   ]
  },
  {
   "cell_type": "code",
   "execution_count": 7,
   "id": "a4b63b09",
   "metadata": {},
   "outputs": [
    {
     "name": "stdout",
     "output_type": "stream",
     "text": [
      "Area of the shape: 0\n",
      "Area of the square: 25\n"
     ]
    }
   ],
   "source": [
    "class Shape:\n",
    "    def __init__(self):\n",
    "        self.area = 0\n",
    "    \n",
    "    def calculate_area(self):\n",
    "        print(\"Area of the shape:\", self.area)\n",
    "\n",
    "\n",
    "class Square(Shape):\n",
    "    def __init__(self, length):\n",
    "        super().__init__()\n",
    "        self.length = length\n",
    "\n",
    "    def calculate_area(self):\n",
    "        self.area = self.length ** 2\n",
    "        print(\"Area of the square:\", self.area)\n",
    "\n",
    "\n",
    "shape = Shape()\n",
    "shape.calculate_area()\n",
    "\n",
    "square = Square(5)\n",
    "square.calculate_area() \n"
   ]
  }
 ],
 "metadata": {
  "kernelspec": {
   "display_name": "Python 3 (ipykernel)",
   "language": "python",
   "name": "python3"
  },
  "language_info": {
   "codemirror_mode": {
    "name": "ipython",
    "version": 3
   },
   "file_extension": ".py",
   "mimetype": "text/x-python",
   "name": "python",
   "nbconvert_exporter": "python",
   "pygments_lexer": "ipython3",
   "version": "3.9.13"
  }
 },
 "nbformat": 4,
 "nbformat_minor": 5
}
