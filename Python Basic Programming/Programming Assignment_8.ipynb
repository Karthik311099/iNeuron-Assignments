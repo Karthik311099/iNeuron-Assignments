{
 "cells": [
  {
   "cell_type": "markdown",
   "id": "9b304197",
   "metadata": {},
   "source": [
    "# Python Programming Assignment-8"
   ]
  },
  {
   "cell_type": "markdown",
   "id": "22789ae6",
   "metadata": {},
   "source": [
    "#### Question 1.\n",
    "Write a Python Program to Add Two Matrices?"
   ]
  },
  {
   "cell_type": "code",
   "execution_count": 1,
   "id": "f26dd3f3",
   "metadata": {},
   "outputs": [
    {
     "name": "stdout",
     "output_type": "stream",
     "text": [
      "Result of addition:\n",
      " [[ 10  10 120]\n",
      " [ 10  50  60]\n",
      " [ 10 123  10]]\n"
     ]
    }
   ],
   "source": [
    "import numpy as np\n",
    "\n",
    "# Definng the matrices\n",
    "A = np.array([[1, 2, 83],\n",
    "              [4, 5,56],\n",
    "              [7, 81, 9]])\n",
    "\n",
    "B = np.array([[9, 8, 37],\n",
    "              [6, 45, 4],\n",
    "              [3, 42, 1]])\n",
    "\n",
    "# Adding the matrices\n",
    "C = A + B\n",
    "\n",
    "print(\"Result of addition:\\n\", C)"
   ]
  },
  {
   "cell_type": "markdown",
   "id": "044ceda6",
   "metadata": {},
   "source": [
    "#### Question 2. \n",
    "Write a Python Program to Multiply Two Matrices?"
   ]
  },
  {
   "cell_type": "code",
   "execution_count": 2,
   "id": "0452db48",
   "metadata": {},
   "outputs": [
    {
     "name": "stdout",
     "output_type": "stream",
     "text": [
      "Result of multiplication:\n",
      " [[6718 7504]\n",
      " [ 579  794]]\n"
     ]
    }
   ],
   "source": [
    "#method 1\n",
    "import numpy as np\n",
    "\n",
    "# Defining the matrices\n",
    "A = np.array([[1, 742, 3],\n",
    "              [4, 5, 46]])\n",
    "\n",
    "B = np.array([[7,48],\n",
    "              [9, 10],\n",
    "              [11, 12]])\n",
    "\n",
    "# Multiplication using numpy.dot()\n",
    "C = np.dot(A, B)\n",
    "\n",
    "print(\"Result of multiplication:\\n\", C)"
   ]
  },
  {
   "cell_type": "code",
   "execution_count": 3,
   "id": "ebbe5b9c",
   "metadata": {},
   "outputs": [
    {
     "name": "stdout",
     "output_type": "stream",
     "text": [
      "Result of multiplication:\n",
      " [[338 304]\n",
      " [899 354]]\n"
     ]
    }
   ],
   "source": [
    "# method 2 Using the @ operator\n",
    "import numpy as np\n",
    "\n",
    "# Defining the matrices\n",
    "A = np.array([[1, 2, 23],\n",
    "                [4, 25, 6]])\n",
    "\n",
    "B = np.array([[27, 8],\n",
    "                [29, 10],\n",
    "                [11, 12]])\n",
    "\n",
    "# Multiplication using @ operator\n",
    "C = A @ B\n",
    "\n",
    "print(\"Result of multiplication:\\n\", C)"
   ]
  },
  {
   "cell_type": "code",
   "execution_count": 4,
   "id": "334d6268",
   "metadata": {},
   "outputs": [
    {
     "name": "stdout",
     "output_type": "stream",
     "text": [
      "Result of multiplication:\n",
      " [[278. 164.]\n",
      " [419. 254.]]\n"
     ]
    }
   ],
   "source": [
    "#method 3\n",
    "import numpy as np\n",
    "\n",
    "#size of matrix A is 2x3 \n",
    "A = np.array([[1, 12, 3],\n",
    "              [4, 15, 6]])\n",
    "#size of matrix B is 3x2\n",
    "B = np.array([[17, 8],\n",
    "              [19, 10],\n",
    "              [11, 12]])\n",
    "\n",
    "#creating a matrix to store the result equal to size of AxB\n",
    "result = np.zeros((A.shape[0], B.shape[1]))#size of result matrix is 2x2\n",
    "\n",
    "for i in range(A.shape[0]):#iterating by row of A\n",
    "    for j in range(B.shape[1]):#iterating by coloum by B\n",
    "        for k in range(A.shape[1]):#iterating by rows of B\n",
    "            result[i][j] += A[i][k] * B[k][j]\n",
    "\n",
    "print(\"Result of multiplication:\\n\", result)"
   ]
  },
  {
   "cell_type": "markdown",
   "id": "5f688e46",
   "metadata": {},
   "source": [
    "#### Question 3. \n",
    "Write a Python Program to Transpose a Matrix?"
   ]
  },
  {
   "cell_type": "code",
   "execution_count": 5,
   "id": "f077f41d",
   "metadata": {},
   "outputs": [
    {
     "name": "stdout",
     "output_type": "stream",
     "text": [
      "Transpose of matrix:\n",
      "[[ 1 13  5]\n",
      " [ 2  4 16]]\n"
     ]
    }
   ],
   "source": [
    "#method 1 : using numpy library\n",
    "import numpy as np\n",
    "\n",
    "# Defining the matrix\n",
    "matrix = np.array([[1,2],\n",
    "                [13,4],\n",
    "                [5,16]])\n",
    "\n",
    "transpose = matrix.T\n",
    "\n",
    "print(\"Transpose of matrix:\")\n",
    "print(transpose)"
   ]
  },
  {
   "cell_type": "code",
   "execution_count": 6,
   "id": "a6af3f54",
   "metadata": {},
   "outputs": [
    {
     "name": "stdout",
     "output_type": "stream",
     "text": [
      "[1, 3, 5]\n",
      "[21, 14, 6]\n"
     ]
    }
   ],
   "source": [
    "#method 2 : Transposing a matrix using a nested loop\n",
    "\n",
    "X = [[1,21],\n",
    "    [3,14],\n",
    "    [5,6]]\n",
    "\n",
    "result = [[0,0,0],\n",
    "         [0,0,0]]\n",
    "\n",
    "# iterating through rows\n",
    "for i in range(len(X)):\n",
    "   # iterating through columns\n",
    "   for j in range(len(X[0])):\n",
    "        result[j][i] = X[i][j]\n",
    "\n",
    "for r in result:\n",
    "    print(r)"
   ]
  },
  {
   "cell_type": "markdown",
   "id": "b2849025",
   "metadata": {},
   "source": [
    "#### Question 4. \n",
    "Write a Python Program to Sort Words in Alphabetic Order?"
   ]
  },
  {
   "cell_type": "code",
   "execution_count": 7,
   "id": "c030bfb6",
   "metadata": {},
   "outputs": [
    {
     "name": "stdout",
     "output_type": "stream",
     "text": [
      "Enter the words: Write a Python Program to Remove Punctuation From a String\n",
      "input text: Write a Python Program to Remove Punctuation From a String\n",
      "Sorted order of words: ['a', 'a', 'from', 'program', 'punctuation', 'python', 'remove', 'string', 'to', 'write']\n",
      "Joined words: a a from program punctuation python remove string to write\n"
     ]
    }
   ],
   "source": [
    "try:\n",
    "    sentance = input(\"Enter the words: \")\n",
    "    print(f\"input text: {sentance}\")\n",
    "    words = [word.lower() for word in sentance.split()]\n",
    "    words.sort()\n",
    "    \n",
    "    print(f\"Sorted order of words: {words}\")\n",
    "    joined_words = \" \".join(words)\n",
    "    print(f\"Joined words: {joined_words}\")\n",
    "\n",
    "except Exception as e:\n",
    "    print(e)"
   ]
  },
  {
   "cell_type": "markdown",
   "id": "48ac7b24",
   "metadata": {},
   "source": [
    "#### Question 5. \n",
    "Write a Python Program to Remove Punctuation From a String?"
   ]
  },
  {
   "cell_type": "code",
   "execution_count": 8,
   "id": "2d683609",
   "metadata": {},
   "outputs": [
    {
     "name": "stdout",
     "output_type": "stream",
     "text": [
      "Text without punctuation: Hello How are you Im doing good thank you\n"
     ]
    }
   ],
   "source": [
    "#method 1\n",
    "import string\n",
    "\n",
    "def remove_punctuation(text):\n",
    "    # Create a translation table using string.punctuation\n",
    "    translator = str.maketrans(\"\", \"\", string.punctuation)\n",
    "    # Remove punctuation using translate() method\n",
    "    text_without_punct = text.translate(translator)\n",
    "    \n",
    "    return text_without_punct\n",
    "\n",
    "text = \"Hello! How are you? I'm doing good, thank you.\"\n",
    "text_without_punct = remove_punctuation(text)\n",
    "print(\"Text without punctuation:\", text_without_punct)\n"
   ]
  },
  {
   "cell_type": "code",
   "execution_count": 9,
   "id": "6c7b2c63",
   "metadata": {},
   "outputs": [
    {
     "name": "stdout",
     "output_type": "stream",
     "text": [
      "Text without punctuation: Hello How are you Im good thank you\n"
     ]
    }
   ],
   "source": [
    "#method 2\n",
    "punctuations = '''!()-[]{};:'\"\\,<>./?@#$%^&*_~'''\n",
    "\n",
    "string = text = \"Hello! How are you? I'm good, thank you.\"\n",
    "\n",
    "outputString = \"\"\n",
    "\n",
    "for char in string:\n",
    "    if char not in punctuations:\n",
    "        outputString += char\n",
    "        \n",
    "print(\"Text without punctuation:\",outputString)"
   ]
  }
 ],
 "metadata": {
  "kernelspec": {
   "display_name": "Python 3 (ipykernel)",
   "language": "python",
   "name": "python3"
  },
  "language_info": {
   "codemirror_mode": {
    "name": "ipython",
    "version": 3
   },
   "file_extension": ".py",
   "mimetype": "text/x-python",
   "name": "python",
   "nbconvert_exporter": "python",
   "pygments_lexer": "ipython3",
   "version": "3.9.13"
  }
 },
 "nbformat": 4,
 "nbformat_minor": 5
}
