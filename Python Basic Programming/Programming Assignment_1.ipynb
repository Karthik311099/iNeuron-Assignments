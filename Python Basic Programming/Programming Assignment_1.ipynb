{
 "cells": [
  {
   "cell_type": "markdown",
   "id": "637b47a5",
   "metadata": {},
   "source": [
    "# Python Programming Assignment-1"
   ]
  },
  {
   "cell_type": "markdown",
   "id": "0c647dbe",
   "metadata": {},
   "source": [
    "#### Question 1. \n",
    "Write a Python program to print \"Hello Python\"?"
   ]
  },
  {
   "cell_type": "code",
   "execution_count": 1,
   "id": "732cbadd",
   "metadata": {},
   "outputs": [
    {
     "name": "stdout",
     "output_type": "stream",
     "text": [
      "Hello Python\n"
     ]
    }
   ],
   "source": [
    "print(\"Hello Python\")"
   ]
  },
  {
   "cell_type": "markdown",
   "id": "fc18a6cd",
   "metadata": {},
   "source": [
    "#### Question 2.\n",
    "Write a Python program to do arithmetical operations addition and division.?"
   ]
  },
  {
   "cell_type": "code",
   "execution_count": 2,
   "id": "d5e81491",
   "metadata": {},
   "outputs": [
    {
     "name": "stdout",
     "output_type": "stream",
     "text": [
      "Enter the value of a : 5\n",
      "Enter the value of b : 7\n",
      "Addition : 12.0\n",
      "Division : 0.7142857142857143\n"
     ]
    }
   ],
   "source": [
    "a = float(input(\"Enter the value of a : \"))\n",
    "b = float(input(\"Enter the value of b : \"))\n",
    "\n",
    "# Addition\n",
    "add = a + b\n",
    "# Division\n",
    "div = a/b\n",
    "\n",
    "print(f\"Addition : {add}\")\n",
    "print(f\"Division : {div}\")"
   ]
  },
  {
   "cell_type": "markdown",
   "id": "af6e2429",
   "metadata": {},
   "source": [
    "#### Question 3.\n",
    "Write a Python program to find the area of a triangle?"
   ]
  },
  {
   "cell_type": "code",
   "execution_count": 3,
   "id": "d5d93846",
   "metadata": {},
   "outputs": [
    {
     "name": "stdout",
     "output_type": "stream",
     "text": [
      "Enter the height of triangle: 2\n",
      "Enter the base of triangle: 5\n",
      "Area of triangle is 5.0\n"
     ]
    }
   ],
   "source": [
    "h= float(input(\"Enter the height of triangle: \"))\n",
    "b= float(input(\"Enter the base of triangle: \"))\n",
    "\n",
    "# Area of triangle\n",
    "area = 0.5 * h * b\n",
    "print(f\"Area of triangle is {area}\")"
   ]
  },
  {
   "cell_type": "markdown",
   "id": "b8140061",
   "metadata": {},
   "source": [
    "#### Question 4.\n",
    "Write a Python program to swap two variables?"
   ]
  },
  {
   "cell_type": "code",
   "execution_count": 4,
   "id": "182608ba",
   "metadata": {},
   "outputs": [
    {
     "name": "stdout",
     "output_type": "stream",
     "text": [
      "Before swap:\n",
      "var1 = 5 and var2 = 10\n",
      "After swap:\n",
      "var1 = 10 and var2 = 5\n"
     ]
    }
   ],
   "source": [
    "var1 = 5\n",
    "var2 = 10\n",
    "\n",
    "print(f'Before swap:\\nvar1 = {var1} and var2 = {var2}')\n",
    "\n",
    "temp = var1\n",
    "var1 = var2\n",
    "var2 = temp\n",
    "\n",
    "print(f'After swap:\\nvar1 = {var1} and var2 = {var2}')"
   ]
  },
  {
   "cell_type": "markdown",
   "id": "3f8054c1",
   "metadata": {},
   "source": [
    "#### Question 5.\n",
    "Write a Python program to generate a random number?"
   ]
  },
  {
   "cell_type": "code",
   "execution_count": 5,
   "id": "f1e76df9",
   "metadata": {},
   "outputs": [
    {
     "name": "stdout",
     "output_type": "stream",
     "text": [
      "random no :  9\n"
     ]
    }
   ],
   "source": [
    "import random\n",
    "\n",
    "print(\"random no : \",random.randint(0, 9))\n"
   ]
  }
 ],
 "metadata": {
  "kernelspec": {
   "display_name": "Python 3 (ipykernel)",
   "language": "python",
   "name": "python3"
  },
  "language_info": {
   "codemirror_mode": {
    "name": "ipython",
    "version": 3
   },
   "file_extension": ".py",
   "mimetype": "text/x-python",
   "name": "python",
   "nbconvert_exporter": "python",
   "pygments_lexer": "ipython3",
   "version": "3.9.13"
  },
  "vscode": {
   "interpreter": {
    "hash": "bd5316cc99e3660f85f6692d31dd238d65d190c87f17e1dfe92cf173d93fcefb"
   }
  }
 },
 "nbformat": 4,
 "nbformat_minor": 5
}
