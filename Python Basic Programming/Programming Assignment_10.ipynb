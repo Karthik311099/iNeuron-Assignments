{
 "cells": [
  {
   "cell_type": "markdown",
   "id": "3dcb940f",
   "metadata": {},
   "source": [
    "# Python Programming Assignment-10"
   ]
  },
  {
   "cell_type": "markdown",
   "id": "6720790a",
   "metadata": {},
   "source": [
    "#### Question 1. \n",
    "Write a Python program to find sum of elements in list?"
   ]
  },
  {
   "cell_type": "code",
   "execution_count": 1,
   "id": "042df790",
   "metadata": {},
   "outputs": [
    {
     "name": "stdout",
     "output_type": "stream",
     "text": [
      "The sum of the elements in the list is: 25\n"
     ]
    }
   ],
   "source": [
    "from builtins import sum\n",
    "\n",
    "l = [2, 4, 1, 5, 6, 7]\n",
    "list_sum = sum(l)\n",
    "print(\"The sum of the elements in the list is:\", list_sum)"
   ]
  },
  {
   "cell_type": "code",
   "execution_count": 2,
   "id": "533f67cc",
   "metadata": {},
   "outputs": [
    {
     "name": "stdout",
     "output_type": "stream",
     "text": [
      "The sum of the elements in the list is: 25\n"
     ]
    }
   ],
   "source": [
    "l = [2, 4, 1, 5, 6, 7]\n",
    "\n",
    "list_sum = 0\n",
    "for i in l:\n",
    "    list_sum += i\n",
    "print(\"The sum of the elements in the list is:\",list_sum)"
   ]
  },
  {
   "cell_type": "markdown",
   "id": "fe1137c3",
   "metadata": {},
   "source": [
    "#### Question 2.\n",
    "Write a Python program to  Multiply all numbers in the list?"
   ]
  },
  {
   "cell_type": "code",
   "execution_count": 3,
   "id": "fe22cfb0",
   "metadata": {},
   "outputs": [
    {
     "name": "stdout",
     "output_type": "stream",
     "text": [
      "The product of the elements in the list is: 120\n"
     ]
    }
   ],
   "source": [
    "#method 1 : using for loop\n",
    "my_list = [1, 2, 3, 4, 5]\n",
    "product = 1\n",
    "for num in my_list:\n",
    "    product *= num\n",
    "print(\"The product of the elements in the list is:\", product)"
   ]
  },
  {
   "cell_type": "code",
   "execution_count": 4,
   "id": "33643bed",
   "metadata": {},
   "outputs": [
    {
     "name": "stdout",
     "output_type": "stream",
     "text": [
      "The product of the elements in the list is: 120\n"
     ]
    }
   ],
   "source": [
    "#method 2: using reduce\n",
    "from functools import reduce\n",
    "my_list = [1, 2, 3, 4, 5]\n",
    "product = reduce((lambda x, y: x * y), my_list)\n",
    "print(\"The product of the elements in the list is:\", product)"
   ]
  },
  {
   "cell_type": "markdown",
   "id": "078681db",
   "metadata": {},
   "source": [
    "#### Question 3.\n",
    "Write a Python program to find smallest number in a list?"
   ]
  },
  {
   "cell_type": "code",
   "execution_count": 5,
   "id": "2ca471f8",
   "metadata": {},
   "outputs": [
    {
     "name": "stdout",
     "output_type": "stream",
     "text": [
      "The smallest element in the list is: -400\n"
     ]
    }
   ],
   "source": [
    "l = [2, 0, 100, 1, 1200, 6, -400]\n",
    "l_min =min(l)\n",
    "print(\"The smallest element in the list is:\", l_min)"
   ]
  },
  {
   "cell_type": "markdown",
   "id": "12b04397",
   "metadata": {},
   "source": [
    "#### Question 4.\n",
    "Write a Python program to find largest number in a list?"
   ]
  },
  {
   "cell_type": "code",
   "execution_count": 6,
   "id": "76437f44",
   "metadata": {},
   "outputs": [
    {
     "name": "stdout",
     "output_type": "stream",
     "text": [
      "The largest element in the list is: 1200\n"
     ]
    }
   ],
   "source": [
    "l = [2, 0, 100, 1, 1200, 6, -400]\n",
    "\n",
    "l_max =max(l)\n",
    "print(\"The largest element in the list is:\", l_max)"
   ]
  },
  {
   "cell_type": "markdown",
   "id": "86442b51",
   "metadata": {},
   "source": [
    "#### Question 5. \n",
    "Write a Python program to find second largest number in a list?"
   ]
  },
  {
   "cell_type": "code",
   "execution_count": 7,
   "id": "4c58e34a",
   "metadata": {},
   "outputs": [
    {
     "name": "stdout",
     "output_type": "stream",
     "text": [
      "Second largest number in the list is : 100\n"
     ]
    }
   ],
   "source": [
    "l = [2, 0, 100, 1, 1200, 6, -400]\n",
    "l.sort(reverse=True)\n",
    "print(\"Second largest number in the list is :\", l[1])"
   ]
  },
  {
   "cell_type": "markdown",
   "id": "10964d7d",
   "metadata": {},
   "source": [
    "#### Question 6.\n",
    "Write a Python program to find N largest elements from a list?"
   ]
  },
  {
   "cell_type": "code",
   "execution_count": 8,
   "id": "6dbaef03",
   "metadata": {},
   "outputs": [
    {
     "name": "stdout",
     "output_type": "stream",
     "text": [
      "The 2nd largest element is: 199\n",
      "The 3rd largest element is: 100\n",
      "The 4th largest element is: 20\n"
     ]
    }
   ],
   "source": [
    "def nlarge(lst, n):\n",
    "    \n",
    "    lst.sort(reverse = True)\n",
    "    return lst[n-1]\n",
    "\n",
    "\n",
    "l = [2, 20, 0, 100, 1, 1200, 6, -400, 199]\n",
    "\n",
    "# 2nd Largest Element\n",
    "print(\"The 2nd largest element is:\",nlarge(l, 2))\n",
    "# 3rd Largest Element\n",
    "print(\"The 3rd largest element is:\",nlarge(l, 3))\n",
    "# 4th Largest Element\n",
    "print(\"The 4th largest element is:\",nlarge(l, 4))"
   ]
  },
  {
   "cell_type": "markdown",
   "id": "2f1a1e98",
   "metadata": {},
   "source": [
    "#### Question 7.\n",
    "Write a Python program to print even numbers in a list?"
   ]
  },
  {
   "cell_type": "code",
   "execution_count": 9,
   "id": "3d732576",
   "metadata": {},
   "outputs": [
    {
     "data": {
      "text/plain": [
       "[2, 20, 0, 100, 1200, 6, -400]"
      ]
     },
     "execution_count": 9,
     "metadata": {},
     "output_type": "execute_result"
    }
   ],
   "source": [
    "l = [2, 13, 20, 45, 0, 100, 33, 1, 1200, 6, -400, 199]\n",
    "\n",
    "even_list=[ i for i in l if i%2 == 0]\n",
    "even_list"
   ]
  },
  {
   "cell_type": "markdown",
   "id": "989bb324",
   "metadata": {},
   "source": [
    "#### Question 8. \n",
    "Write a Python program to print odd numbers in a List?"
   ]
  },
  {
   "cell_type": "code",
   "execution_count": 10,
   "id": "a314aada",
   "metadata": {},
   "outputs": [
    {
     "data": {
      "text/plain": [
       "[13, 45, 33, 1, 199]"
      ]
     },
     "execution_count": 10,
     "metadata": {},
     "output_type": "execute_result"
    }
   ],
   "source": [
    "l = [2, 13, 20, 45, 0, 100, 33, 1, 1200, 6, -400, 199]\n",
    "\n",
    "odd_list=[ i for i in l if i%2 == 1]\n",
    "odd_list"
   ]
  },
  {
   "cell_type": "markdown",
   "id": "185b7b13",
   "metadata": {},
   "source": [
    "#### Question 9. \n",
    "Write a Python program to Remove empty List from List?"
   ]
  },
  {
   "cell_type": "code",
   "execution_count": 11,
   "id": "9437d81b",
   "metadata": {},
   "outputs": [
    {
     "data": {
      "text/plain": [
       "[11, 10, 31, [1, 2, 3], [1], 80, 21]"
      ]
     },
     "execution_count": 11,
     "metadata": {},
     "output_type": "execute_result"
    }
   ],
   "source": [
    "l = [11, [], 10, 31, [1,2,3] , [1], [], [], 80, 21, []]\n",
    "\n",
    "result = []\n",
    "for i in l:\n",
    "    if type(i) == list:\n",
    "        if len(i) != 0:\n",
    "            result.append(i)\n",
    "    else:\n",
    "        result.append(i)\n",
    "\n",
    "result            "
   ]
  },
  {
   "cell_type": "markdown",
   "id": "278cfacc",
   "metadata": {},
   "source": [
    "#### Question 10. \n",
    "Write a Python program to Cloning or Copying a list?"
   ]
  },
  {
   "cell_type": "code",
   "execution_count": 12,
   "id": "2b586181",
   "metadata": {},
   "outputs": [
    {
     "name": "stdout",
     "output_type": "stream",
     "text": [
      "Original list: [1, 2, 3, 4, 5]\n",
      "New list: [1, 2, 3, 4, 5]\n"
     ]
    }
   ],
   "source": [
    "# Method 1: Using the slice operator [:]\n",
    "original_list = [1, 2, 3, 4, 5]\n",
    "new_list = original_list[:]\n",
    "print(\"Original list:\", original_list)\n",
    "print(\"New list:\", new_list)"
   ]
  },
  {
   "cell_type": "code",
   "execution_count": 13,
   "id": "00654459",
   "metadata": {},
   "outputs": [
    {
     "name": "stdout",
     "output_type": "stream",
     "text": [
      "Original list: [1, 2, 3, 4, 5]\n",
      "New list: [1, 2, 3, 4, 5]\n"
     ]
    }
   ],
   "source": [
    "# Method 2: Using the list() function\n",
    "original_list = [1, 2, 3, 4, 5]\n",
    "new_list = list(original_list)\n",
    "print(\"Original list:\", original_list)\n",
    "print(\"New list:\", new_list)"
   ]
  },
  {
   "cell_type": "code",
   "execution_count": 14,
   "id": "4554ee40",
   "metadata": {},
   "outputs": [
    {
     "name": "stdout",
     "output_type": "stream",
     "text": [
      "Original list: [1, 2, 3, 4, 5]\n",
      "New list: [1, 2, 3, 4, 5]\n"
     ]
    }
   ],
   "source": [
    "# Method 3: Using the copy() method\n",
    "original_list = [1, 2, 3, 4, 5]\n",
    "new_list = original_list.copy()\n",
    "print(\"Original list:\", original_list)\n",
    "print(\"New list:\", new_list)"
   ]
  },
  {
   "cell_type": "code",
   "execution_count": 15,
   "id": "689c28d0",
   "metadata": {},
   "outputs": [
    {
     "name": "stdout",
     "output_type": "stream",
     "text": [
      "Original list: [1, 2, 3, 4, 5]\n",
      "New list: [1, 2, 3, 4, 5]\n"
     ]
    }
   ],
   "source": [
    "# Method 4: Using the copy module\n",
    "import copy\n",
    "\n",
    "original_list = [1, 2, 3, 4, 5]\n",
    "new_list = copy.copy(original_list)\n",
    "print(\"Original list:\", original_list)\n",
    "print(\"New list:\", new_list)"
   ]
  },
  {
   "cell_type": "code",
   "execution_count": 16,
   "id": "670afc25",
   "metadata": {},
   "outputs": [
    {
     "name": "stdout",
     "output_type": "stream",
     "text": [
      "Original list: [1, 2, 3, 4, 5]\n",
      "New list: [1, 2, 3, 4, 5]\n"
     ]
    }
   ],
   "source": [
    "# Method 5: Using the capend method\n",
    "original_list = [1, 2, 3, 4, 5]\n",
    "new_list = []\n",
    "\n",
    "for i in original_list:\n",
    "    new_list.append(i)\n",
    "    \n",
    "print(\"Original list:\", original_list)\n",
    "print(\"New list:\", new_list)"
   ]
  },
  {
   "cell_type": "code",
   "execution_count": 17,
   "id": "dd0049dd",
   "metadata": {},
   "outputs": [
    {
     "name": "stdout",
     "output_type": "stream",
     "text": [
      "[[1, 2], [3, 4], [5, 6]]\n"
     ]
    }
   ],
   "source": [
    "# Method 4: Using the deepcopy() function\n",
    "import copy\n",
    "\n",
    "my_list = [[1, 2], [3, 4], [5, 6]]\n",
    "new_list = copy.deepcopy(my_list)\n",
    "print(new_list)"
   ]
  },
  {
   "cell_type": "markdown",
   "id": "b359bedf",
   "metadata": {},
   "source": [
    "#### Question 11.\n",
    "Write a Python program to Count occurrences of an element in a list?"
   ]
  },
  {
   "cell_type": "code",
   "execution_count": 18,
   "id": "fcebaa59",
   "metadata": {},
   "outputs": [
    {
     "name": "stdout",
     "output_type": "stream",
     "text": [
      "The number of occurrences of 1 in the list is: 3\n",
      "The number of occurrences of 2 in the list is: 3\n",
      "The number of occurrences of 3 in the list is: 2\n"
     ]
    }
   ],
   "source": [
    "l = [1, 2, 3, 4, 5, 1, 2, 3, 2, 1, 5]\n",
    "\n",
    "def occurrences(l : list, e: int) -> int:\n",
    "    \"\"\"Returns the number of occurrences of an element in a list.\n",
    "    :param l: list to search\n",
    "    :type l: list\n",
    "    :param e: element to search for\n",
    "    :type e: int\n",
    "    :return: number of occurrences of e in l\n",
    "    :rtype: int\n",
    "    \"\"\"\n",
    "    count = l.count(e)\n",
    "    return count\n",
    "\n",
    "print(\"The number of occurrences of 1 in the list is:\", occurrences(l, 1))\n",
    "print(\"The number of occurrences of 2 in the list is:\", occurrences(l, 2))\n",
    "print(\"The number of occurrences of 3 in the list is:\", occurrences(l, 3))"
   ]
  }
 ],
 "metadata": {
  "kernelspec": {
   "display_name": "Python 3 (ipykernel)",
   "language": "python",
   "name": "python3"
  },
  "language_info": {
   "codemirror_mode": {
    "name": "ipython",
    "version": 3
   },
   "file_extension": ".py",
   "mimetype": "text/x-python",
   "name": "python",
   "nbconvert_exporter": "python",
   "pygments_lexer": "ipython3",
   "version": "3.9.13"
  }
 },
 "nbformat": 4,
 "nbformat_minor": 5
}
