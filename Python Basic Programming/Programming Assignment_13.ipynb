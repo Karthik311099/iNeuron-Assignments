{
 "cells": [
  {
   "cell_type": "markdown",
   "id": "62fd0c8e",
   "metadata": {},
   "source": [
    "# python Programming Assignment-13"
   ]
  },
  {
   "cell_type": "markdown",
   "id": "ed4a3c0b",
   "metadata": {},
   "source": [
    "#### Question 1. \n",
    "Write a program that calculates and prints the value according to the given formula:"
   ]
  },
  {
   "cell_type": "markdown",
   "id": "e86796a7",
   "metadata": {},
   "source": [
    "#### Answer:\n",
    "- Q = Square root of [(2 C D)/H]<br>\n",
    "Following are the fixed values of C and H:<br>\n",
    "C is 50. H is 30.<br>\n",
    "\n",
    "- D is the variable whose values should be input to your program in a comma-separated sequence.<br>\n",
    "\n",
    "\n",
    "Example<br>\n",
    "- Let us assume the following comma separated input sequence is given to the program:<br>\n",
    "100,150,180<br>\n",
    "The output of the program should be:<br>\n",
    "18,22,24"
   ]
  },
  {
   "cell_type": "code",
   "execution_count": 1,
   "id": "96b47837",
   "metadata": {},
   "outputs": [
    {
     "name": "stdout",
     "output_type": "stream",
     "text": [
      "Enter comma separated numbers input: 12,14,45,56,63,32,01\n"
     ]
    },
    {
     "data": {
      "text/plain": [
       "[6, 6, 12, 13, 14, 10, 1]"
      ]
     },
     "execution_count": 1,
     "metadata": {},
     "output_type": "execute_result"
    }
   ],
   "source": [
    "import math\n",
    "\n",
    "def calculate_formula(args):\n",
    "    c = 50;h = 30\n",
    "    result = []\n",
    "    for d in args:\n",
    "        result.append(int(math.sqrt((2*c*int(d))/h)))\n",
    "    return result\n",
    "    \n",
    "csv_in = list(input(\"Enter comma separated numbers input: \").split(','))\n",
    "calculate_formula(csv_in)"
   ]
  },
  {
   "cell_type": "markdown",
   "id": "ed37b6ed",
   "metadata": {},
   "source": [
    "Question 2.\n",
    "Write a program which takes 2 digits, X,Y as input and generates a 2-dimensional array. \n",
    "The element value in the i-th row and j-th column of the array should be i*j."
   ]
  },
  {
   "cell_type": "code",
   "execution_count": 2,
   "id": "09beaed7",
   "metadata": {},
   "outputs": [
    {
     "name": "stdout",
     "output_type": "stream",
     "text": [
      "Enter the value of X: 5\n",
      "Enter the value of Y: 6\n",
      "[[ 0  0  0  0  0  0]\n",
      " [ 0  1  2  3  4  5]\n",
      " [ 0  2  4  6  8 10]\n",
      " [ 0  3  6  9 12 15]\n",
      " [ 0  4  8 12 16 20]]\n"
     ]
    }
   ],
   "source": [
    "import numpy as np\n",
    "\n",
    "X = int(input(\"Enter the value of X: \"))\n",
    "Y = int(input(\"Enter the value of Y: \"))\n",
    "arr = np.zeros((X, Y), dtype=int)\n",
    "\n",
    "for i in range(X):\n",
    "    for j in range(Y):\n",
    "        arr[i][j] = i * j\n",
    "\n",
    "print(arr)"
   ]
  },
  {
   "cell_type": "markdown",
   "id": "bc7f977b",
   "metadata": {},
   "source": [
    "#### Question 3.\n",
    "Write a program that accepts a comma separated sequence of words as input and\n",
    "prints the words in a comma-separated sequence after sorting them alphabetically."
   ]
  },
  {
   "cell_type": "code",
   "execution_count": 3,
   "id": "39c3748f",
   "metadata": {},
   "outputs": [
    {
     "name": "stdout",
     "output_type": "stream",
     "text": [
      "Enter a comma-separated sequence of words: love,faith,not,good\n",
      "faith,good,love,not\n"
     ]
    }
   ],
   "source": [
    "words = input(\"Enter a comma-separated sequence of words: \")\n",
    "\n",
    "words_list = words.split(\",\")\n",
    "words_list.sort()\n",
    "sorted_words = \",\".join(words_list)\n",
    "print(sorted_words)"
   ]
  },
  {
   "cell_type": "markdown",
   "id": "171c3d90",
   "metadata": {},
   "source": [
    "#### Question 4. \n",
    "Write a program that accepts a sequence of whitespace separated words as input and prints the words\n",
    "after removing all duplicate words and sorting them alphanumerically."
   ]
  },
  {
   "cell_type": "code",
   "execution_count": 4,
   "id": "6f0b4beb",
   "metadata": {},
   "outputs": [
    {
     "name": "stdout",
     "output_type": "stream",
     "text": [
      "Enter a sequence of whitespace separated words: love faith god yes\n",
      "Result: faith god love yes\n"
     ]
    }
   ],
   "source": [
    "def remove_duplicates_and_sort_words(input_string):\n",
    "    \n",
    "    words = input_string.split()\n",
    "    unique_words = list(set(words))\n",
    "    sorted_words = sorted(unique_words)\n",
    "    return ' '.join(sorted_words)\n",
    "\n",
    "# input sentence : hello world, hello hari, hello ravi, hello world , Hello world!\n",
    "input_sequence = input(\"Enter a sequence of whitespace separated words: \")\n",
    "result = remove_duplicates_and_sort_words(input_sequence)\n",
    "print(\"Result:\", result)"
   ]
  },
  {
   "cell_type": "markdown",
   "id": "88d25c49",
   "metadata": {},
   "source": [
    "#### Question 5.\n",
    "Write a program that accepts a sentence and calculate the number of letters and digits."
   ]
  },
  {
   "cell_type": "code",
   "execution_count": 5,
   "id": "f6d32617",
   "metadata": {},
   "outputs": [
    {
     "name": "stdout",
     "output_type": "stream",
     "text": [
      "Enter a sentence: Within a nervous system, a neuron, neurone, or nerve cell is an electrically excitable cell that fires electric signals called action potentials across a neural network. Neurons communicate with other cells via synapses - specialized connections that commonly use minute amounts of chemical neurotransmitters to pass the electric signal from the presynaptic neuron to the target cell through the synaptic gap. The neuron is the main component of nervous tissue in all animals except sponges and placozoa. Non-animals like plants and fungi do not have nerve cells.\n",
      "Number of letters: 468\n",
      "Number of digits: 0\n"
     ]
    }
   ],
   "source": [
    "#Method 1\n",
    "def count_letters_and_digits_1(sentence):\n",
    "    letters = 0\n",
    "    digits = 0\n",
    "\n",
    "    for char in sentence:\n",
    "        if char.isalpha():\n",
    "            letters += 1\n",
    "        elif char.isdigit():\n",
    "            digits += 1\n",
    "\n",
    "    return letters, digits\n",
    "\n",
    "# input sentence : hello world! 123456!\n",
    "sentence = input(\"Enter a sentence: \")\n",
    "print()\n",
    "letter_count, digit_count = count_letters_and_digits_1(sentence)\n",
    "print(\"Number of letters:\", letter_count)\n",
    "print(\"Number of digits:\", digit_count)"
   ]
  },
  {
   "cell_type": "code",
   "execution_count": 6,
   "id": "9af8334f",
   "metadata": {},
   "outputs": [
    {
     "name": "stdout",
     "output_type": "stream",
     "text": [
      "Enter a sentence: Within a nervous system, a neuron, neurone, or nerve cell is an electrically excitable cell that fires electric signals called action potentials across a neural network. Neurons communicate with other cells via synapses - specialized connections that commonly use minute amounts of chemical neurotransmitters to pass the electric signal from the presynaptic neuron to the target cell through the synaptic gap. The neuron is the main component of nervous tissue in all animals except sponges and placozoa. Non-animals like plants and fungi do not have nerve cells.\n",
      "Enter a sentence: Within a nervous system, a neuron, neurone, or nerve cell is an electrically excitable cell that fires electric signals called action potentials across a neural network. Neurons communicate with other cells via synapses - specialized connections that commonly use minute amounts of chemical neurotransmitters to pass the electric signal from the presynaptic neuron to the target cell through the synaptic gap. The neuron is the main component of nervous tissue in all animals except sponges and placozoa. Non-animals like plants and fungi do not have nerve cells.\n",
      "Number of letters: 468\n",
      "Number of digits: 0\n"
     ]
    }
   ],
   "source": [
    "#Method 2\n",
    "def count_letters_and_digits_2(sentence):    \n",
    "    words = input(\"Enter a sentence: \")\n",
    "    letters = 0\n",
    "    digits = 0\n",
    "    for c in words:\n",
    "        if (ord(c) >= ord('a') and ord(c) <= ord('z')) or (ord(c) >= ord('A') and ord(c) <= ord('Z')):\n",
    "            letters += 1\n",
    "        elif ord(c) >= ord('0') and ord(c) <= ord('9'):\n",
    "            digits += 1\n",
    "    return letters, digits\n",
    "            \n",
    "# input sentence : hello world! 123456!\n",
    "sentence = input(\"Enter a sentence: \")\n",
    "letter_count, digit_count = count_letters_and_digits_2(sentence)\n",
    "print(\"Number of letters:\", letter_count)\n",
    "print(\"Number of digits:\", digit_count)"
   ]
  },
  {
   "cell_type": "markdown",
   "id": "9695c4ca",
   "metadata": {},
   "source": [
    "#### Question 6.\n",
    "A website requires the users to input username and password to register. \n",
    "Write a program to check the validity of password input by users."
   ]
  },
  {
   "cell_type": "code",
   "execution_count": 12,
   "id": "fec7984d",
   "metadata": {},
   "outputs": [
    {
     "name": "stdout",
     "output_type": "stream",
     "text": [
      "Enter your password: Karthik@9488723110\n",
      "Password \"Karthik@9488723110\" is valid\n"
     ]
    }
   ],
   "source": [
    "def check_password_validity(password):\n",
    "    #password length >= 8 characters\n",
    "    if len(password) < 8:\n",
    "        raise ValueError(\"Password should be at least 8 characters long\")\n",
    "\n",
    "    # Checking at least one uppercase, one lowercase, and one digit\n",
    "    has_uppercase = False\n",
    "    has_lowercase = False\n",
    "    has_digit = False\n",
    "\n",
    "    for char in password:\n",
    "        if char.isupper():\n",
    "            has_uppercase = True\n",
    "        elif char.islower():\n",
    "            has_lowercase = True\n",
    "        elif char.isdigit():\n",
    "            has_digit = True\n",
    "\n",
    "    if not (has_uppercase and has_lowercase and has_digit):\n",
    "        raise ValueError(\"Password should contain at least one uppercase letter, one lowercase letter, and one digit\")\n",
    "\n",
    "\n",
    "#input from user\n",
    "password = input(\"Enter your password: \")\n",
    "\n",
    "try:\n",
    "    # Checking validity of the password\n",
    "    check_password_validity(password)\n",
    "    print(f'Password \"{password}\" is valid')\n",
    "except ValueError as error:\n",
    "    print(f'Password \"{password}\" is not valid Error:', str(error))\n"
   ]
  }
 ],
 "metadata": {
  "kernelspec": {
   "display_name": "Python 3 (ipykernel)",
   "language": "python",
   "name": "python3"
  },
  "language_info": {
   "codemirror_mode": {
    "name": "ipython",
    "version": 3
   },
   "file_extension": ".py",
   "mimetype": "text/x-python",
   "name": "python",
   "nbconvert_exporter": "python",
   "pygments_lexer": "ipython3",
   "version": "3.9.13"
  }
 },
 "nbformat": 4,
 "nbformat_minor": 5
}
